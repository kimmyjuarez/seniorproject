{
  "nbformat": 4,
  "nbformat_minor": 0,
  "metadata": {
    "colab": {
      "provenance": []
    },
    "kernelspec": {
      "name": "python3",
      "display_name": "Python 3"
    },
    "language_info": {
      "name": "python"
    }
  },
  "cells": [
    {
      "cell_type": "code",
      "execution_count": null,
      "metadata": {
        "colab": {
          "base_uri": "https://localhost:8080/"
        },
        "id": "f_hHkCpWr8Px",
        "outputId": "1fddf0d0-527d-48cd-9635-999feaa98d77"
      },
      "outputs": [
        {
          "output_type": "stream",
          "name": "stdout",
          "text": [
            "Mounted at /content/drive\n"
          ]
        }
      ],
      "source": [
        "import pandas as pd\n",
        "from google.colab import drive\n",
        "import numpy as np\n",
        "import matplotlib.pyplot as plt\n",
        "import torch.nn.functional as Fn\n",
        "import math\n",
        "import torch\n",
        "import scipy.special\n",
        "from numbers import Number\n",
        "drive.mount('/content/drive')"
      ]
    },
    {
      "cell_type": "code",
      "source": [
        "data, labels = pd.read_csv('https://raw.githubusercontent.com/kimmyjuarez/seniorproject/main/data_matrix_fixed.csv', header=None), pd.read_csv('https://raw.githubusercontent.com/kimmyjuarez/seniorproject/main/labels_fixed.csv', header=None)\n",
        "!wget https://github.com/kimmyjuarez/seniorproject/raw/main/unlabeled_matrix.zip\n",
        "!unzip unlabeled_matrix.zip\n",
        "test_data = pd.read_csv('unlabeled_matrix.csv', header=None)\n",
        "test_data_tensor = torch.tensor(test_data.values).float()\n",
        "\n",
        "train_data = pd.DataFrame(data).values\n",
        "train_data = torch.tensor(train_data).float()\n",
        "train_data = train_data.unsqueeze(-1)\n",
        "train_label = pd.DataFrame(labels).values.flatten()\n",
        "train_label = torch.tensor(train_label).long()\n",
        "\n",
        "#print(train_data)\n",
        "#print(train_label)\n",
        "print(train_data.shape)\n",
        "print(train_label.shape)\n",
        "# data.head()\n",
        "# labels.head()\n",
        "test_data_tensor = test_data_tensor.unsqueeze(2)\n",
        "test_data_tensor.shape"
      ],
      "metadata": {
        "colab": {
          "base_uri": "https://localhost:8080/"
        },
        "id": "B8MWT34psH7F",
        "outputId": "fd4584d6-c4eb-4df5-ab45-411ccdd106ae"
      },
      "execution_count": null,
      "outputs": [
        {
          "output_type": "stream",
          "name": "stdout",
          "text": [
            "--2023-12-11 16:58:32--  https://github.com/kimmyjuarez/seniorproject/raw/main/unlabeled_matrix.zip\n",
            "Resolving github.com (github.com)... 140.82.112.4\n",
            "Connecting to github.com (github.com)|140.82.112.4|:443... connected.\n",
            "HTTP request sent, awaiting response... 302 Found\n",
            "Location: https://raw.githubusercontent.com/kimmyjuarez/seniorproject/main/unlabeled_matrix.zip [following]\n",
            "--2023-12-11 16:58:33--  https://raw.githubusercontent.com/kimmyjuarez/seniorproject/main/unlabeled_matrix.zip\n",
            "Resolving raw.githubusercontent.com (raw.githubusercontent.com)... 185.199.108.133, 185.199.109.133, 185.199.110.133, ...\n",
            "Connecting to raw.githubusercontent.com (raw.githubusercontent.com)|185.199.108.133|:443... connected.\n",
            "HTTP request sent, awaiting response... 200 OK\n",
            "Length: 2411566 (2.3M) [application/zip]\n",
            "Saving to: ‘unlabeled_matrix.zip’\n",
            "\n",
            "unlabeled_matrix.zi 100%[===================>]   2.30M  --.-KB/s    in 0.05s   \n",
            "\n",
            "2023-12-11 16:58:33 (47.7 MB/s) - ‘unlabeled_matrix.zip’ saved [2411566/2411566]\n",
            "\n",
            "Archive:  unlabeled_matrix.zip\n",
            "  inflating: unlabeled_matrix.csv    \n",
            "torch.Size([161, 338, 1])\n",
            "torch.Size([161])\n"
          ]
        },
        {
          "output_type": "execute_result",
          "data": {
            "text/plain": [
              "torch.Size([199816, 338, 1])"
            ]
          },
          "metadata": {},
          "execution_count": 2
        }
      ]
    },
    {
      "cell_type": "code",
      "source": [
        "train_data"
      ],
      "metadata": {
        "colab": {
          "base_uri": "https://localhost:8080/"
        },
        "id": "KmZRt2ZNoUpZ",
        "outputId": "73dd87d2-10d1-4cfc-8323-fa75b2beb617"
      },
      "execution_count": null,
      "outputs": [
        {
          "output_type": "execute_result",
          "data": {
            "text/plain": [
              "tensor([[[ 23.],\n",
              "         [ 24.],\n",
              "         [  8.],\n",
              "         ...,\n",
              "         [  0.],\n",
              "         [  0.],\n",
              "         [  0.]],\n",
              "\n",
              "        [[ 10.],\n",
              "         [ 10.],\n",
              "         [  4.],\n",
              "         ...,\n",
              "         [  0.],\n",
              "         [  0.],\n",
              "         [  0.]],\n",
              "\n",
              "        [[ 16.],\n",
              "         [  4.],\n",
              "         [182.],\n",
              "         ...,\n",
              "         [  0.],\n",
              "         [  0.],\n",
              "         [  0.]],\n",
              "\n",
              "        ...,\n",
              "\n",
              "        [[120.],\n",
              "         [109.],\n",
              "         [109.],\n",
              "         ...,\n",
              "         [  0.],\n",
              "         [  0.],\n",
              "         [  0.]],\n",
              "\n",
              "        [[ 37.],\n",
              "         [ 33.],\n",
              "         [ 33.],\n",
              "         ...,\n",
              "         [  0.],\n",
              "         [  0.],\n",
              "         [  0.]],\n",
              "\n",
              "        [[ 80.],\n",
              "         [202.],\n",
              "         [202.],\n",
              "         ...,\n",
              "         [  0.],\n",
              "         [  0.],\n",
              "         [  0.]]])"
            ]
          },
          "metadata": {},
          "execution_count": 11
        }
      ]
    },
    {
      "cell_type": "code",
      "source": [
        "import numpy as np\n",
        "import torch\n",
        "from torch import nn\n",
        "from torch import optim\n",
        "import torch.nn.functional as F\n",
        "from torchvision import datasets, transforms, models"
      ],
      "metadata": {
        "id": "GDmVoUtWsQ3B"
      },
      "execution_count": null,
      "outputs": []
    },
    {
      "cell_type": "code",
      "source": [
        "#@title Default title text\n",
        "#Backbone Network:\n",
        "import torch\n",
        "import os\n",
        "import pandas as pd\n",
        "from skimage import io, transform\n",
        "import numpy as np\n",
        "from torch.utils.data import Dataset, DataLoader\n",
        "from torchvision import transforms, utils,models\n",
        "import numpy as np\n",
        "import pandas as pd\n",
        "import shutil, time, os, requests, random, copy\n",
        "from itertools import permutations\n",
        "import seaborn as sns\n",
        "\n",
        "import math\n",
        "\n",
        "import imageio\n",
        "from skimage.transform import rotate, AffineTransform, warp, resize\n",
        "#import skvideo.io as vidio\n",
        "#from google.colab.patches import cv2_imshow\n",
        "from IPython.display import clear_output, Image, SVG\n",
        "import h5py\n",
        "#from tabulate import tabulate\n",
        "\n",
        "import torch\n",
        "import torch.nn as nn\n",
        "import torch.nn.functional as F\n",
        "import torch.optim as optim\n",
        "\n",
        "from sklearn.utils import shuffle\n",
        "from sklearn.metrics import classification_report, confusion_matrix, roc_curve, auc, f1_score\n",
        "from sklearn.metrics import average_precision_score, precision_recall_curve, roc_auc_score, accuracy_score\n",
        "from sklearn.utils.class_weight import compute_class_weight\n",
        "from sklearn.model_selection import train_test_split\n",
        "\n",
        "import matplotlib.pyplot as plt\n",
        "\n",
        "try:\n",
        "    from torch.hub import load_state_dict_from_url\n",
        "except ImportError:\n",
        "    from torch.utils.model_zoo import load_url as load_state_dict_from_url\n",
        "\n",
        "from typing import Type, Any, Callable, Union, List, Optional\n",
        "from torch import Tensor\n",
        "from collections import OrderedDict\n",
        "\n",
        "\n",
        "import torch\n",
        "from torch import Tensor\n",
        "import torch.nn as nn\n",
        "from torch.hub import load_state_dict_from_url\n",
        "#from torch.utils import load_state_dict_from_url\n",
        "from typing import Type, Any, Callable, Union, List, Optional\n",
        "import torch.nn.functional as F\n",
        "\n",
        "__all__ = ['ResNet', 'resnet18', 'resnet34', 'resnet50', 'resnet101',\n",
        "           'resnet152', 'resnext50_32x4d', 'resnext101_32x8d',\n",
        "           'wide_resnet50_2', 'wide_resnet101_2']\n",
        "\n",
        "\n",
        "model_urls = {\n",
        "    'resnet18': 'https://download.pytorch.org/models/resnet18-f37072fd.pth',\n",
        "    'resnet34': 'https://download.pytorch.org/models/resnet34-b627a593.pth',\n",
        "    'resnet50': 'https://download.pytorch.org/models/resnet50-0676ba61.pth',\n",
        "    'resnet101': 'https://download.pytorch.org/models/resnet101-63fe2227.pth',\n",
        "    'resnet152': 'https://download.pytorch.org/models/resnet152-394f9c45.pth',\n",
        "    'resnext50_32x4d': 'https://download.pytorch.org/models/resnext50_32x4d-7cdf4587.pth',\n",
        "    'resnext101_32x8d': 'https://download.pytorch.org/models/resnext101_32x8d-8ba56ff5.pth',\n",
        "    'wide_resnet50_2': 'https://download.pytorch.org/models/wide_resnet50_2-95faca4d.pth',\n",
        "    'wide_resnet101_2': 'https://download.pytorch.org/models/wide_resnet101_2-32ee1156.pth',\n",
        "}\n",
        "\n",
        "\n",
        "def conv3x3(in_planes: int, out_planes: int, stride: int = 1, groups: int = 1, dilation: int = 1) -> nn.Conv2d:\n",
        "    \"\"\"3x3 convolution with padding\"\"\"\n",
        "    return nn.Conv1d(in_planes, out_planes, kernel_size=3, stride=stride,\n",
        "                     padding=dilation, groups=groups, bias=False, dilation=dilation)\n",
        "\n",
        "\n",
        "def conv1x1(in_planes: int, out_planes: int, stride: int = 1) -> nn.Conv2d:\n",
        "    \"\"\"1x1 convolution\"\"\"\n",
        "    return nn.Conv1d(in_planes, out_planes, kernel_size=1, stride=stride, bias=False)\n",
        "\n",
        "\n",
        "class BasicBlock(nn.Module):\n",
        "    expansion: int = 1\n",
        "\n",
        "    def __init__(\n",
        "        self,\n",
        "        inplanes: int,\n",
        "        planes: int,\n",
        "        stride: int = 1,\n",
        "        downsample: Optional[nn.Module] = None,\n",
        "        groups: int = 1,\n",
        "        base_width: int = 64,\n",
        "        dilation: int = 1,\n",
        "        norm_layer: Optional[Callable[..., nn.Module]] = None\n",
        "    ) -> None:\n",
        "        super(BasicBlock, self).__init__()\n",
        "        if norm_layer is None:\n",
        "            norm_layer = nn.BatchNorm1d\n",
        "        if groups != 1 or base_width != 64:\n",
        "            raise ValueError('BasicBlock only supports groups=1 and base_width=64')\n",
        "        if dilation > 1:\n",
        "            raise NotImplementedError(\"Dilation > 1 not supported in BasicBlock\")\n",
        "        # Both self.conv1 and self.downsample layers downsample the input when stride != 1\n",
        "        self.conv1 = conv3x3(inplanes, planes, stride)\n",
        "        self.bn1 = norm_layer(planes)\n",
        "        self.relu = nn.ReLU(inplace=True)\n",
        "        self.conv2 = conv3x3(planes, planes)\n",
        "        self.bn2 = norm_layer(planes)\n",
        "        self.downsample = downsample\n",
        "        self.stride = stride\n",
        "\n",
        "    def forward(self, x: Tensor) -> Tensor:\n",
        "        identity = x\n",
        "\n",
        "        out = self.conv1(x)\n",
        "        out = self.bn1(out)\n",
        "        out = self.relu(out)\n",
        "\n",
        "        out = self.conv2(out)\n",
        "        out = self.bn2(out)\n",
        "\n",
        "        if self.downsample is not None:\n",
        "            identity = self.downsample(x)\n",
        "\n",
        "        out += identity\n",
        "        out = self.relu(out)\n",
        "\n",
        "        return out\n",
        "\n",
        "\n",
        "class Bottleneck(nn.Module):\n",
        "    # Bottleneck in torchvision places the stride for downsampling at 3x3 convolution(self.conv2)\n",
        "    # while original implementation places the stride at the first 1x1 convolution(self.conv1)\n",
        "    # according to \"Deep residual learning for image recognition\"https://arxiv.org/abs/1512.03385.\n",
        "    # This variant is also known as ResNet V1.5 and improves accuracy according to\n",
        "    # https://ngc.nvidia.com/catalog/model-scripts/nvidia:resnet_50_v1_5_for_pytorch.\n",
        "\n",
        "    expansion: int = 4\n",
        "\n",
        "    def __init__(\n",
        "        self,\n",
        "        inplanes: int,\n",
        "        planes: int,\n",
        "        stride: int = 1,\n",
        "        downsample: Optional[nn.Module] = None,\n",
        "        groups: int = 1,\n",
        "        base_width: int = 64,\n",
        "        dilation: int = 1,\n",
        "        norm_layer: Optional[Callable[..., nn.Module]] = None\n",
        "    ) -> None:\n",
        "        super(Bottleneck, self).__init__()\n",
        "        if norm_layer is None:\n",
        "            norm_layer = nn.BatchNorm1d\n",
        "        width = int(planes * (base_width / 64.)) * groups\n",
        "        # Both self.conv2 and self.downsample layers downsample the input when stride != 1\n",
        "        self.conv1 = conv1x1(inplanes, width)\n",
        "        self.bn1 = norm_layer(width)\n",
        "        self.conv2 = conv3x3(width, width, stride, groups, dilation)\n",
        "        self.bn2 = norm_layer(width)\n",
        "        self.conv3 = conv1x1(width, planes * self.expansion)\n",
        "        self.bn3 = norm_layer(planes * self.expansion)\n",
        "        self.relu = nn.ReLU(inplace=True)\n",
        "        self.downsample = downsample\n",
        "        self.stride = stride\n",
        "\n",
        "    def forward(self, x: Tensor) -> Tensor:\n",
        "        identity = x\n",
        "\n",
        "        out = self.conv1(x)\n",
        "        out = self.bn1(out)\n",
        "        out = self.relu(out)\n",
        "\n",
        "        out = self.conv2(out)\n",
        "        out = self.bn2(out)\n",
        "        out = self.relu(out)\n",
        "\n",
        "        out = self.conv3(out)\n",
        "        out = self.bn3(out)\n",
        "\n",
        "        if self.downsample is not None:\n",
        "            identity = self.downsample(x)\n",
        "\n",
        "        out += identity\n",
        "        out = self.relu(out)\n",
        "\n",
        "        return out\n",
        "\n",
        "\n",
        "class ResNet2D1(nn.Module):\n",
        "\n",
        "    def __init__(\n",
        "        self,\n",
        "        block: Type[Union[BasicBlock, Bottleneck]],\n",
        "        layers: List[int],\n",
        "        num_classes: int = 20,\n",
        "        zero_init_residual: bool = False,\n",
        "        groups: int = 1,\n",
        "        input_size: int = 9,\n",
        "        width_per_group: int = 64,\n",
        "        replace_stride_with_dilation: Optional[List[bool]] = None,\n",
        "        norm_layer: Optional[Callable[..., nn.Module]] = None\n",
        "    ) -> None:\n",
        "        super(ResNet2D1, self).__init__()\n",
        "        if norm_layer is None:\n",
        "            norm_layer = nn.BatchNorm1d\n",
        "        self._norm_layer = norm_layer\n",
        "\n",
        "        self.inplanes = 64\n",
        "        self.dilation = 1\n",
        "        if replace_stride_with_dilation is None:\n",
        "            # each element in the tuple indicates if we should replace\n",
        "            # the 2x2 stride with a dilated convolution instead\n",
        "            replace_stride_with_dilation = [False, False, False]\n",
        "        if len(replace_stride_with_dilation) != 3:\n",
        "            raise ValueError(\"replace_stride_with_dilation should be None \"\n",
        "                             \"or a 3-element tuple, got {}\".format(replace_stride_with_dilation))\n",
        "        self.groups = groups\n",
        "        self.base_width = width_per_group\n",
        "        self.conv1 = nn.Conv1d(input_size, self.inplanes, kernel_size=7, stride=2, padding=3,\n",
        "                               bias=False)\n",
        "        self.bn1 = norm_layer(self.inplanes)\n",
        "        self.relu = nn.ReLU(inplace=True)\n",
        "        self.maxpool = nn.MaxPool1d(kernel_size=3, stride=2, padding=1)\n",
        "        self.layer1 = self._make_layer(block, 64, layers[0])\n",
        "        self.layer2 = self._make_layer(block, 128, layers[1], stride=2,\n",
        "                                       dilate=replace_stride_with_dilation[0])\n",
        "        self.layer3 = self._make_layer(block, 256, layers[2], stride=4,\n",
        "                                       dilate=replace_stride_with_dilation[1])\n",
        "        self.layer4 = self._make_layer(block, 512, layers[3], stride=8,\n",
        "                                       dilate=replace_stride_with_dilation[2])\n",
        "        self.avgpool = nn.AdaptiveAvgPool1d(1)\n",
        "        self.fc = nn.Linear(512 * block.expansion, 256)\n",
        "\n",
        "        for m in self.modules():\n",
        "            if isinstance(m, nn.Conv2d):\n",
        "                nn.init.kaiming_normal_(m.weight, mode='fan_out', nonlinearity='relu')\n",
        "            elif isinstance(m, (nn.BatchNorm1d, nn.GroupNorm)):\n",
        "                nn.init.constant_(m.weight, 1)\n",
        "                nn.init.constant_(m.bias, 0)\n",
        "\n",
        "        # Zero-initialize the last BN in each residual branch,\n",
        "        # so that the residual branch starts with zeros, and each residual block behaves like an identity.\n",
        "        # This improves the model by 0.2~0.3% according to https://arxiv.org/abs/1706.02677\n",
        "        if zero_init_residual:\n",
        "            for m in self.modules():\n",
        "                if isinstance(m, Bottleneck):\n",
        "                    nn.init.constant_(m.bn3.weight, 0)  # type: ignore[arg-type]\n",
        "                elif isinstance(m, BasicBlock):\n",
        "                    nn.init.constant_(m.bn2.weight, 0)  # type: ignore[arg-type]\n",
        "\n",
        "\n",
        "        self.hash_fc = nn.Sequential(\n",
        "            nn.Linear(256, 64, bias=False),\n",
        "            nn.BatchNorm1d(64, momentum=0.1)\n",
        "        )\n",
        "        self.fcn = nn.Linear(64, num_classes);\n",
        "        nn.init.normal_(self.hash_fc[0].weight, std=0.01)\n",
        "        # nn.init.zeros_(self.hash_fc.bias)\n",
        "\n",
        "\n",
        "    def _make_layer(self, block: Type[Union[BasicBlock, Bottleneck]], planes: int, blocks: int,\n",
        "                    stride: int = 1, dilate: bool = False) -> nn.Sequential:\n",
        "        norm_layer = self._norm_layer\n",
        "        downsample = None\n",
        "        previous_dilation = self.dilation\n",
        "        if dilate:\n",
        "            self.dilation *= stride\n",
        "            stride = 1\n",
        "        if stride != 1 or self.inplanes != planes * block.expansion:\n",
        "            downsample = nn.Sequential(\n",
        "                conv1x1(self.inplanes, planes * block.expansion, stride),\n",
        "                norm_layer(planes * block.expansion),\n",
        "            )\n",
        "\n",
        "        layers = []\n",
        "        layers.append(block(self.inplanes, planes, stride, downsample, self.groups,\n",
        "                            self.base_width, previous_dilation, norm_layer))\n",
        "        self.inplanes = planes * block.expansion\n",
        "        for _ in range(1, blocks):\n",
        "            layers.append(block(self.inplanes, planes, groups=self.groups,\n",
        "                                base_width=self.base_width, dilation=self.dilation,\n",
        "                                norm_layer=norm_layer))\n",
        "\n",
        "        return nn.Sequential(*layers)\n",
        "\n",
        "    def _forward_impl(self, x: Tensor) -> Tensor:\n",
        "        # See note [TorchScript super()]\n",
        "        x = self.conv1(x)\n",
        "        x = self.bn1(x)\n",
        "        x = self.relu(x)\n",
        "        x = self.maxpool(x)\n",
        "\n",
        "        x = self.layer1(x)\n",
        "        x = self.layer2(x)\n",
        "        x = self.layer3(x)\n",
        "        x = self.layer4(x)\n",
        "        #print(x.size())\n",
        "        #x = x.mean(dim=2)\n",
        "        x = self.avgpool(x)\n",
        "        x = torch.flatten(x, 1)\n",
        "\n",
        "        x = self.fc(x)\n",
        "        x = F.relu(x)\n",
        "        x = self.hash_fc(x)\n",
        "        o = self.fcn(x)\n",
        "        o = F.softmax(o,dim=1)\n",
        "        return o, x\n",
        "\n",
        "    def forward(self, x: Tensor) -> Tensor:\n",
        "        return self._forward_impl(x)\n",
        "\n",
        "\n",
        "def _resnet(\n",
        "    arch: str,\n",
        "    block: Type[Union[BasicBlock, Bottleneck]],\n",
        "    layers: List[int],\n",
        "    pretrained: bool,\n",
        "    progress: bool,\n",
        "    **kwargs: Any\n",
        ") -> ResNet2D1:\n",
        "    model = ResNet2D1(block, layers, **kwargs)\n",
        "    if pretrained:\n",
        "        state_dict = load_state_dict_from_url(model_urls[arch],\n",
        "                                              progress=progress)\n",
        "        model.load_state_dict(state_dict)\n",
        "    return model\n",
        "\n",
        "\n",
        "def resnet18(pretrained: bool = False, progress: bool = True, **kwargs: Any) -> ResNet2D1:\n",
        "    r\"\"\"ResNet-18 model from\n",
        "    `\"Deep Residual Learning for Image Recognition\" <https://arxiv.org/pdf/1512.03385.pdf>`_.\n",
        "    Args:\n",
        "        pretrained (bool): If True, returns a model pre-trained on ImageNet\n",
        "        progress (bool): If True, displays a progress bar of the download to stderr\n",
        "    \"\"\"\n",
        "    return _resnet('resnet18', BasicBlock, [2, 2, 2, 2], pretrained, progress,\n",
        "                   **kwargs)\n",
        "\n",
        "def resnet50(pretrained: bool = False, progress: bool = True, **kwargs: Any) -> ResNet2D1:\n",
        "    r\"\"\"ResNet-50 model from\n",
        "    `\"Deep Residual Learning for Image Recognition\" <https://arxiv.org/pdf/1512.03385.pdf>`_.\n",
        "    Args:\n",
        "        pretrained (bool): If True, returns a model pre-trained on ImageNet\n",
        "        progress (bool): If True, displays a progress bar of the download to stderr\n",
        "    \"\"\"\n",
        "    return _resnet('resnet50', Bottleneck, [3, 4, 6, 3], pretrained, progress,\n",
        "                   **kwargs)\n",
        "\n",
        "def resnet152(pretrained: bool = False, progress: bool = True, **kwargs: Any) -> ResNet2D1:\n",
        "    r\"\"\"ResNet-152 model from\n",
        "    `\"Deep Residual Learning for Image Recognition\" <https://arxiv.org/pdf/1512.03385.pdf>`_.\n",
        "    Args:\n",
        "        pretrained (bool): If True, returns a model pre-trained on ImageNet\n",
        "        progress (bool): If True, displays a progress bar of the download to stderr\n",
        "    \"\"\"\n",
        "    return _resnet('resnet152', Bottleneck, [3, 8, 36, 3], pretrained, progress,\n",
        "                   **kwargs)\n",
        "\n",
        "def resnet34(pretrained: bool = False, progress: bool = True, **kwargs: Any) -> ResNet2D1:\n",
        "    r\"\"\"ResNet-34 model from\n",
        "    `\"Deep Residual Learning for Image Recognition\" <https://arxiv.org/pdf/1512.03385.pdf>`_.\n",
        "    Args:\n",
        "        pretrained (bool): If True, returns a model pre-trained on ImageNet\n",
        "        progress (bool): If True, displays a progress bar of the download to stderr\n",
        "    \"\"\"\n",
        "    return _resnet('resnet34', BasicBlock, [3, 4, 6, 3], pretrained, progress,\n",
        "                   **kwargs)\n",
        "\n",
        "def resnet101(pretrained: bool = False, progress: bool = True, **kwargs: Any) -> ResNet2D1:\n",
        "    r\"\"\"ResNet-101 model from\n",
        "    `\"Deep Residual Learning for Image Recognition\" <https://arxiv.org/pdf/1512.03385.pdf>`_.\n",
        "    Args:\n",
        "        pretrained (bool): If True, returns a model pre-trained on ImageNet\n",
        "        progress (bool): If True, displays a progress bar of the download to stderr\n",
        "    \"\"\"\n",
        "    return _resnet('resnet101', Bottleneck, [3, 4, 23, 3], pretrained, progress,\n",
        "                   **kwargs)\n",
        "\n",
        "def resnext50_32x4d(pretrained: bool = False, progress: bool = True, **kwargs: Any) -> ResNet2D1:\n",
        "    r\"\"\"ResNeXt-50 32x4d model from\n",
        "    `\"Aggregated Residual Transformation for Deep Neural Networks\" <https://arxiv.org/pdf/1611.05431.pdf>`_.\n",
        "    Args:\n",
        "        pretrained (bool): If True, returns a model pre-trained on ImageNet\n",
        "        progress (bool): If True, displays a progress bar of the download to stderr\n",
        "    \"\"\"\n",
        "    kwargs['groups'] = 32\n",
        "    kwargs['width_per_group'] = 4\n",
        "    return _resnet('resnext50_32x4d', Bottleneck, [3, 4, 6, 3],\n",
        "                   pretrained, progress, **kwargs)\n",
        "\n",
        "\n",
        "def resnext101_32x8d(pretrained: bool = False, progress: bool = True, **kwargs: Any) -> ResNet2D1:\n",
        "    r\"\"\"ResNeXt-101 32x8d model from\n",
        "    `\"Aggregated Residual Transformation for Deep Neural Networks\" <https://arxiv.org/pdf/1611.05431.pdf>`_.\n",
        "    Args:\n",
        "        pretrained (bool): If True, returns a model pre-trained on ImageNet\n",
        "        progress (bool): If True, displays a progress bar of the download to stderr\n",
        "    \"\"\"\n",
        "    kwargs['groups'] = 32\n",
        "    kwargs['width_per_group'] = 8\n",
        "    return _resnet('resnext101_32x8d', Bottleneck, [3, 4, 23, 3],\n",
        "                   pretrained, progress, **kwargs)\n",
        "\n",
        "\n",
        "def wide_resnet50_2(pretrained: bool = False, progress: bool = True, **kwargs: Any) -> ResNet2D1:\n",
        "    r\"\"\"Wide ResNet-50-2 model from\n",
        "    `\"Wide Residual Networks\" <https://arxiv.org/pdf/1605.07146.pdf>`_.\n",
        "    The model is the same as ResNet except for the bottleneck number of channels\n",
        "    which is twice larger in every block. The number of channels in outer 1x1\n",
        "    convolutions is the same, e.g. last block in ResNet-50 has 2048-512-2048\n",
        "    channels, and in Wide ResNet-50-2 has 2048-1024-2048.\n",
        "    Args:\n",
        "        pretrained (bool): If True, returns a model pre-trained on ImageNet\n",
        "        progress (bool): If True, displays a progress bar of the download to stderr\n",
        "    \"\"\"\n",
        "    kwargs['width_per_group'] = 64 * 2\n",
        "    return _resnet('wide_resnet50_2', Bottleneck, [3, 4, 6, 3],\n",
        "                   pretrained, progress, **kwargs)\n",
        "\n",
        "\n",
        "def wide_resnet101_2(pretrained: bool = False, progress: bool = True, **kwargs: Any) -> ResNet2D1:\n",
        "    r\"\"\"Wide ResNet-101-2 model from\n",
        "    `\"Wide Residual Networks\" <https://arxiv.org/pdf/1605.07146.pdf>`_.\n",
        "    The model is the same as ResNet except for the bottleneck number of channels\n",
        "    which is twice larger in every block. The number of channels in outer 1x1\n",
        "    convolutions is the same, e.g. last block in ResNet-50 has 2048-512-2048\n",
        "    channels, and in Wide ResNet-50-2 has 2048-1024-2048.\n",
        "    Args:\n",
        "        pretrained (bool): If True, returns a model pre-trained on ImageNet\n",
        "        progress (bool): If True, displays a progress bar of the download to stderr\n",
        "    \"\"\"\n",
        "    kwargs['width_per_group'] = 64 * 2\n",
        "    return _resnet('wide_resnet101_2', Bottleneck, [3, 4, 23, 3],\n",
        "                   pretrained, progress, **kwargs)"
      ],
      "metadata": {
        "id": "QQoF6gvjsRcy"
      },
      "execution_count": null,
      "outputs": []
    },
    {
      "cell_type": "markdown",
      "source": [
        "#HashNet Function"
      ],
      "metadata": {
        "id": "8kjUHUP7sVZy"
      }
    },
    {
      "cell_type": "code",
      "source": [
        "import torch\n",
        "class HashNetLoss(torch.nn.Module):\n",
        "    def __init__(self):\n",
        "        super(HashNetLoss, self).__init__()\n",
        "        self.scale = 1\n",
        "\n",
        "    def forward(self, u, y, sigmoid_alpha):\n",
        "        u = torch.tanh(self.scale * u)\n",
        "        y = y.float()\n",
        "        S = (y @ y.t() > 0).float()\n",
        "\n",
        "        dot_product = sigmoid_alpha * u @ u.t()\n",
        "        mask_positive = S > 0\n",
        "        mask_negative = (1 - S).bool()\n",
        "\n",
        "        neg_log_probe = dot_product + torch.log(1 + torch.exp(-dot_product)) -  S * dot_product\n",
        "        S1 = torch.sum(mask_positive.float())\n",
        "        S0 = torch.sum(mask_negative.float())\n",
        "        S = S0 + S1\n",
        "\n",
        "        neg_log_probe[mask_positive] = neg_log_probe[mask_positive] * S / S1\n",
        "        neg_log_probe[mask_negative] = neg_log_probe[mask_negative] * S / S0\n",
        "\n",
        "        loss = torch.sum(neg_log_probe) / S\n",
        "        return loss"
      ],
      "metadata": {
        "id": "85kIDhHlsTgq"
      },
      "execution_count": null,
      "outputs": []
    },
    {
      "cell_type": "code",
      "source": [
        "loss_hashnet=HashNetLoss()\n",
        "label_onehot = torch.nn.functional.one_hot(torch.tensor(train_label).long())\n",
        "model_resnet = resnet34()\n",
        "model_resnet.conv1 = torch.nn.Conv1d(338, 64, kernel_size=7, stride=2, padding=3, bias=False)\n",
        "label_onehot = torch.nn.functional.one_hot(torch.tensor(train_label).long())\n",
        "pred, embedding = model_resnet(torch.tensor(train_data).float())"
      ],
      "metadata": {
        "colab": {
          "base_uri": "https://localhost:8080/"
        },
        "id": "ycR8OU5IsZbE",
        "outputId": "8e1b1ae2-cf19-4669-86ad-63f27e9d3742"
      },
      "execution_count": null,
      "outputs": [
        {
          "output_type": "stream",
          "name": "stderr",
          "text": [
            "<ipython-input-7-4dd340d4e903>:2: UserWarning: To copy construct from a tensor, it is recommended to use sourceTensor.clone().detach() or sourceTensor.clone().detach().requires_grad_(True), rather than torch.tensor(sourceTensor).\n",
            "  label_onehot = torch.nn.functional.one_hot(torch.tensor(train_label).long())\n",
            "<ipython-input-7-4dd340d4e903>:5: UserWarning: To copy construct from a tensor, it is recommended to use sourceTensor.clone().detach() or sourceTensor.clone().detach().requires_grad_(True), rather than torch.tensor(sourceTensor).\n",
            "  label_onehot = torch.nn.functional.one_hot(torch.tensor(train_label).long())\n",
            "<ipython-input-7-4dd340d4e903>:6: UserWarning: To copy construct from a tensor, it is recommended to use sourceTensor.clone().detach() or sourceTensor.clone().detach().requires_grad_(True), rather than torch.tensor(sourceTensor).\n",
            "  pred, embedding = model_resnet(torch.tensor(train_data).float())\n"
          ]
        }
      ]
    },
    {
      "cell_type": "code",
      "source": [
        "loss_hashnet(embedding,label_onehot,sigmoid_alpha=0.5) #Just to check if it works, not neccesary to run\n",
        "S = (label_onehot @ label_onehot.t() > 0).float()"
      ],
      "metadata": {
        "id": "mEP1b1vlsZ1O"
      },
      "execution_count": null,
      "outputs": []
    },
    {
      "cell_type": "code",
      "source": [
        "S"
      ],
      "metadata": {
        "colab": {
          "base_uri": "https://localhost:8080/"
        },
        "id": "7TxtE2NGsydL",
        "outputId": "3d5b48f7-4e1d-4af4-d640-6e37ee2df546"
      },
      "execution_count": null,
      "outputs": [
        {
          "output_type": "execute_result",
          "data": {
            "text/plain": [
              "tensor([[1., 0., 0.,  ..., 0., 0., 0.],\n",
              "        [0., 1., 0.,  ..., 0., 0., 0.],\n",
              "        [0., 0., 1.,  ..., 0., 1., 1.],\n",
              "        ...,\n",
              "        [0., 0., 0.,  ..., 1., 0., 0.],\n",
              "        [0., 0., 1.,  ..., 0., 1., 1.],\n",
              "        [0., 0., 1.,  ..., 0., 1., 1.]])"
            ]
          },
          "metadata": {},
          "execution_count": 9
        }
      ]
    },
    {
      "cell_type": "markdown",
      "source": [
        "#Training with Validation Loss"
      ],
      "metadata": {
        "id": "F-EgYDMDs18-"
      }
    },
    {
      "cell_type": "code",
      "source": [
        "test_data_tensor"
      ],
      "metadata": {
        "colab": {
          "base_uri": "https://localhost:8080/"
        },
        "id": "8bwrHjtc0b9t",
        "outputId": "a6fe86c4-8bc6-4bf4-8ed4-1d7aed694b44"
      },
      "execution_count": null,
      "outputs": [
        {
          "output_type": "execute_result",
          "data": {
            "text/plain": [
              "tensor([[[  8.],\n",
              "         [  8.],\n",
              "         [168.],\n",
              "         ...,\n",
              "         [  1.],\n",
              "         [  1.],\n",
              "         [  1.]],\n",
              "\n",
              "        [[  8.],\n",
              "         [168.],\n",
              "         [168.],\n",
              "         ...,\n",
              "         [  1.],\n",
              "         [  1.],\n",
              "         [  1.]],\n",
              "\n",
              "        [[168.],\n",
              "         [168.],\n",
              "         [ 68.],\n",
              "         ...,\n",
              "         [  1.],\n",
              "         [  1.],\n",
              "         [  1.]],\n",
              "\n",
              "        ...,\n",
              "\n",
              "        [[  1.],\n",
              "         [  1.],\n",
              "         [  1.],\n",
              "         ...,\n",
              "         [  1.],\n",
              "         [  1.],\n",
              "         [  1.]],\n",
              "\n",
              "        [[  1.],\n",
              "         [  1.],\n",
              "         [  1.],\n",
              "         ...,\n",
              "         [  1.],\n",
              "         [  1.],\n",
              "         [ 15.]],\n",
              "\n",
              "        [[  1.],\n",
              "         [  1.],\n",
              "         [  1.],\n",
              "         ...,\n",
              "         [  1.],\n",
              "         [ 15.],\n",
              "         [ 32.]]])"
            ]
          },
          "metadata": {},
          "execution_count": 10
        }
      ]
    },
    {
      "cell_type": "code",
      "source": [
        "device = torch.device(\"cuda\" if torch.cuda.is_available() else \"cpu\")\n",
        "train_data = torch.tensor(train_data).float().clone().detach().to(device)"
      ],
      "metadata": {
        "colab": {
          "base_uri": "https://localhost:8080/"
        },
        "id": "3WVRKbcQ02bk",
        "outputId": "8e201072-3df8-49a9-ef80-353b8c4253b4"
      },
      "execution_count": null,
      "outputs": [
        {
          "output_type": "stream",
          "name": "stderr",
          "text": [
            "<ipython-input-13-9e3ab56baf5b>:2: UserWarning: To copy construct from a tensor, it is recommended to use sourceTensor.clone().detach() or sourceTensor.clone().detach().requires_grad_(True), rather than torch.tensor(sourceTensor).\n",
            "  train_data = torch.tensor(train_data).float().clone().detach().to(device)\n"
          ]
        }
      ]
    },
    {
      "cell_type": "code",
      "source": [
        "train_data"
      ],
      "metadata": {
        "colab": {
          "base_uri": "https://localhost:8080/"
        },
        "id": "lsYm2Rvz053i",
        "outputId": "e9750760-4090-42e4-a0b5-850ad4259d3c"
      },
      "execution_count": null,
      "outputs": [
        {
          "output_type": "execute_result",
          "data": {
            "text/plain": [
              "tensor([[[ 23.],\n",
              "         [ 24.],\n",
              "         [  8.],\n",
              "         ...,\n",
              "         [  0.],\n",
              "         [  0.],\n",
              "         [  0.]],\n",
              "\n",
              "        [[ 10.],\n",
              "         [ 10.],\n",
              "         [  4.],\n",
              "         ...,\n",
              "         [  0.],\n",
              "         [  0.],\n",
              "         [  0.]],\n",
              "\n",
              "        [[ 16.],\n",
              "         [  4.],\n",
              "         [182.],\n",
              "         ...,\n",
              "         [  0.],\n",
              "         [  0.],\n",
              "         [  0.]],\n",
              "\n",
              "        ...,\n",
              "\n",
              "        [[120.],\n",
              "         [109.],\n",
              "         [109.],\n",
              "         ...,\n",
              "         [  0.],\n",
              "         [  0.],\n",
              "         [  0.]],\n",
              "\n",
              "        [[ 37.],\n",
              "         [ 33.],\n",
              "         [ 33.],\n",
              "         ...,\n",
              "         [  0.],\n",
              "         [  0.],\n",
              "         [  0.]],\n",
              "\n",
              "        [[ 80.],\n",
              "         [202.],\n",
              "         [202.],\n",
              "         ...,\n",
              "         [  0.],\n",
              "         [  0.],\n",
              "         [  0.]]])"
            ]
          },
          "metadata": {},
          "execution_count": 14
        }
      ]
    },
    {
      "cell_type": "code",
      "source": [
        "import torch.optim as optim\n",
        "\n",
        "\n",
        "device = torch.device(\"cuda\" if torch.cuda.is_available() else \"cpu\")\n",
        "\n",
        "model_resnet = resnet34()\n",
        "model_resnet.conv1 = torch.nn.Conv1d(338, 64, kernel_size=7, stride=2, padding=3, bias=False)\n",
        "\n",
        "# Move model to the device\n",
        "model_resnet = model_resnet.to(device)\n",
        "\n",
        "criterion = nn.CrossEntropyLoss()\n",
        "optimizer = optim.Adam(model_resnet.parameters(), lr=1e-3)\n",
        "\n",
        "# Create one-hot labels and move them to device\n",
        "label_onehot = torch.nn.functional.one_hot(torch.tensor(train_label).long()).to(device)\n",
        "\n",
        "# Move data and labels to the device\n",
        "train_label = torch.tensor(train_label).long().clone().detach().to(device)\n",
        "train_data = torch.tensor(train_data).float().clone().detach().to(device)\n",
        "\n",
        "assert len(train_data) == len(label_onehot), \"Mismatched lengths\"\n",
        "\n",
        "\n",
        "# Splitting data 60/40\n",
        "split = int(0.6 * len(train_data))\n",
        "training_data, val_data = train_data[:split], train_data[split:]\n",
        "training_label_onehot, val_label_onehot = label_onehot[:split], label_onehot[split:]\n",
        "\n",
        "# Initialize lists for storing embeddings and labels\n",
        "embedding_list_train = []\n",
        "embedding_list_val = []\n",
        "\n",
        "best_loss = float('inf')\n",
        "\n",
        "#print(train_data.shape)\n",
        "#print(label_onehot.shape)\n",
        "#print(training_data.shape)\n",
        "#print(training_label_onehot.shape)\n",
        "\n",
        "# Training loop\n",
        "for i in range(1000):\n",
        "    optimizer.zero_grad()\n",
        "\n",
        "    # Training Data\n",
        "    pred, embedding = model_resnet(torch.tensor(training_data).float())\n",
        "    #print(embedding.shape)\n",
        "    #print(training_label_onehot.shape)\n",
        "\n",
        "    tmp = embedding / embedding.norm(dim=1).unsqueeze(dim=1)\n",
        "    train_loss = loss_hashnet(embedding, training_label_onehot, sigmoid_alpha=0.5)\n",
        "\n",
        "    embedding_list_train.append(tmp.cpu().detach().numpy())\n",
        "\n",
        "    train_loss.backward()\n",
        "    optimizer.step()\n",
        "    print(\"Epoch:\", i+1, 'Training loss: ' + str(train_loss.item()))\n",
        "\n",
        "    # Validation Data\n",
        "    with torch.no_grad():\n",
        "        pred_val, embedding_val = model_resnet(val_data.float())\n",
        "        tmp_val = embedding_val / embedding_val.norm(dim=1).unsqueeze(dim=1)\n",
        "        val_loss = loss_hashnet(embedding_val, val_label_onehot, sigmoid_alpha=0.5)\n",
        "\n",
        "        embedding_list_val.append(tmp_val.cpu().detach().numpy())\n",
        "\n",
        "    # Save the best model based on validation loss\n",
        "    if val_loss.item() < best_loss:\n",
        "        best_loss = val_loss.item()\n",
        "        torch.save(model_resnet.state_dict(), '/content/drive/MyDrive/Senior_Project/best_hashnet_model.pth')\n",
        "        print(\"New best val loss:\", best_loss, \"at epoch\", i+1)"
      ],
      "metadata": {
        "colab": {
          "base_uri": "https://localhost:8080/",
          "height": 245
        },
        "id": "9depeptIs1tQ",
        "outputId": "4d598aa8-b874-4883-e3ac-7c1b62b22184"
      },
      "execution_count": null,
      "outputs": [
        {
          "output_type": "error",
          "ename": "NameError",
          "evalue": "ignored",
          "traceback": [
            "\u001b[0;31m---------------------------------------------------------------------------\u001b[0m",
            "\u001b[0;31mNameError\u001b[0m                                 Traceback (most recent call last)",
            "\u001b[0;32m<ipython-input-2-cf811c0d0af4>\u001b[0m in \u001b[0;36m<cell line: 7>\u001b[0;34m()\u001b[0m\n\u001b[1;32m      5\u001b[0m \u001b[0mdevice\u001b[0m \u001b[0;34m=\u001b[0m \u001b[0mtorch\u001b[0m\u001b[0;34m.\u001b[0m\u001b[0mdevice\u001b[0m\u001b[0;34m(\u001b[0m\u001b[0;34m\"cuda\"\u001b[0m \u001b[0;32mif\u001b[0m \u001b[0mtorch\u001b[0m\u001b[0;34m.\u001b[0m\u001b[0mcuda\u001b[0m\u001b[0;34m.\u001b[0m\u001b[0mis_available\u001b[0m\u001b[0;34m(\u001b[0m\u001b[0;34m)\u001b[0m \u001b[0;32melse\u001b[0m \u001b[0;34m\"cpu\"\u001b[0m\u001b[0;34m)\u001b[0m\u001b[0;34m\u001b[0m\u001b[0;34m\u001b[0m\u001b[0m\n\u001b[1;32m      6\u001b[0m \u001b[0;34m\u001b[0m\u001b[0m\n\u001b[0;32m----> 7\u001b[0;31m \u001b[0mmodel_resnet\u001b[0m \u001b[0;34m=\u001b[0m \u001b[0mresnet34\u001b[0m\u001b[0;34m(\u001b[0m\u001b[0;34m)\u001b[0m\u001b[0;34m\u001b[0m\u001b[0;34m\u001b[0m\u001b[0m\n\u001b[0m\u001b[1;32m      8\u001b[0m \u001b[0mmodel_resnet\u001b[0m\u001b[0;34m.\u001b[0m\u001b[0mconv1\u001b[0m \u001b[0;34m=\u001b[0m \u001b[0mtorch\u001b[0m\u001b[0;34m.\u001b[0m\u001b[0mnn\u001b[0m\u001b[0;34m.\u001b[0m\u001b[0mConv1d\u001b[0m\u001b[0;34m(\u001b[0m\u001b[0;36m338\u001b[0m\u001b[0;34m,\u001b[0m \u001b[0;36m64\u001b[0m\u001b[0;34m,\u001b[0m \u001b[0mkernel_size\u001b[0m\u001b[0;34m=\u001b[0m\u001b[0;36m7\u001b[0m\u001b[0;34m,\u001b[0m \u001b[0mstride\u001b[0m\u001b[0;34m=\u001b[0m\u001b[0;36m2\u001b[0m\u001b[0;34m,\u001b[0m \u001b[0mpadding\u001b[0m\u001b[0;34m=\u001b[0m\u001b[0;36m3\u001b[0m\u001b[0;34m,\u001b[0m \u001b[0mbias\u001b[0m\u001b[0;34m=\u001b[0m\u001b[0;32mFalse\u001b[0m\u001b[0;34m)\u001b[0m\u001b[0;34m\u001b[0m\u001b[0;34m\u001b[0m\u001b[0m\n\u001b[1;32m      9\u001b[0m \u001b[0;34m\u001b[0m\u001b[0m\n",
            "\u001b[0;31mNameError\u001b[0m: name 'resnet34' is not defined"
          ]
        }
      ]
    },
    {
      "cell_type": "code",
      "source": [
        "import matplotlib.pyplot as plt\n",
        "from sklearn.manifold import TSNE\n",
        "\n",
        "def plot_tsne(embedding_list, labels, title, is_hash=False):\n",
        "    # If is_hash is True, apply some hash-specific logic (if any)\n",
        "\n",
        "    # Choose one epoch's embeddings or average them, based on what you find useful\n",
        "    # For example, using the last epoch's embeddings\n",
        "    final_embedding = embedding_list[-1].reshape(-1, embedding_list[-1].shape[-1])\n",
        "\n",
        "    # Initialize t-SNE\n",
        "    tsne = TSNE(n_components=2, verbose=1, perplexity=40, n_iter=300)\n",
        "\n",
        "    # Perform t-SNE on embeddings\n",
        "    tsne_results = tsne.fit_transform(final_embedding)\n",
        "\n",
        "    # Plotting\n",
        "    plt.figure(figsize=(8, 8))\n",
        "    plt.scatter(tsne_results[:, 0], tsne_results[:, 1], c=labels.cpu().numpy().argmax(axis=1), cmap='viridis')\n",
        "    plt.colorbar()\n",
        "    plt.title(title)\n",
        "    plt.show()\n"
      ],
      "metadata": {
        "id": "NzudUL6ss7z3"
      },
      "execution_count": null,
      "outputs": []
    },
    {
      "cell_type": "code",
      "source": [
        "plot_tsne(embedding_list_train, training_label_onehot, 't-SNE visualization of training embeddings (with Hash)', is_hash=True)\n",
        "plot_tsne(embedding_list_val, val_label_onehot, 't-SNE visualization of validation embeddings (with Hash)', is_hash=True)"
      ],
      "metadata": {
        "colab": {
          "base_uri": "https://localhost:8080/",
          "height": 1000
        },
        "id": "-DH0_vrPs-Yb",
        "outputId": "7913f008-ab0c-48ef-cc3b-d8fc51c7369b"
      },
      "execution_count": null,
      "outputs": [
        {
          "output_type": "stream",
          "name": "stdout",
          "text": [
            "[t-SNE] Computing 95 nearest neighbors...\n",
            "[t-SNE] Indexed 96 samples in 0.001s...\n",
            "[t-SNE] Computed neighbors for 96 samples in 0.088s...\n",
            "[t-SNE] Computed conditional probabilities for sample 96 / 96\n",
            "[t-SNE] Mean sigma: 0.926776\n",
            "[t-SNE] KL divergence after 250 iterations with early exaggeration: 47.371025\n",
            "[t-SNE] KL divergence after 300 iterations: 0.022360\n"
          ]
        },
        {
          "output_type": "display_data",
          "data": {
            "text/plain": [
              "<Figure size 800x800 with 2 Axes>"
            ],
            "image/png": "[encoded data removed]"
          },
          "metadata": {}
        },
        {
          "output_type": "stream",
          "name": "stdout",
          "text": [
            "[t-SNE] Computing 64 nearest neighbors...\n",
            "[t-SNE] Indexed 65 samples in 0.008s...\n",
            "[t-SNE] Computed neighbors for 65 samples in 0.003s...\n",
            "[t-SNE] Computed conditional probabilities for sample 65 / 65\n",
            "[t-SNE] Mean sigma: 1.086905\n",
            "[t-SNE] KL divergence after 250 iterations with early exaggeration: 43.593510\n",
            "[t-SNE] KL divergence after 300 iterations: 0.034270\n"
          ]
        },
        {
          "output_type": "display_data",
          "data": {
            "text/plain": [
              "<Figure size 800x800 with 2 Axes>"
            ],
            "image/png": "[encoded data removed]"
          },
          "metadata": {}
        }
      ]
    },
    {
      "cell_type": "code",
      "source": [
        "plot_tsne(embedding_list_train, training_label_onehot, 't-SNE visualization of training embeddings (No Hash)', is_hash=False)\n",
        "plot_tsne(embedding_list_val, val_label_onehot, 't-SNE visualization of validation embeddings (No Hash)', is_hash=False)"
      ],
      "metadata": {
        "colab": {
          "base_uri": "https://localhost:8080/",
          "height": 1000
        },
        "id": "Xmo6gVn7tQmL",
        "outputId": "41c46b15-d040-4db8-e93b-1f0b65e69fd4"
      },
      "execution_count": null,
      "outputs": [
        {
          "output_type": "stream",
          "name": "stdout",
          "text": [
            "[t-SNE] Computing 95 nearest neighbors...\n",
            "[t-SNE] Indexed 96 samples in 0.000s...\n",
            "[t-SNE] Computed neighbors for 96 samples in 0.005s...\n",
            "[t-SNE] Computed conditional probabilities for sample 96 / 96\n",
            "[t-SNE] Mean sigma: 0.926776\n",
            "[t-SNE] KL divergence after 250 iterations with early exaggeration: 45.507538\n",
            "[t-SNE] KL divergence after 300 iterations: 0.036327\n"
          ]
        },
        {
          "output_type": "display_data",
          "data": {
            "text/plain": [
              "<Figure size 800x800 with 2 Axes>"
            ],
            "image/png": "[encoded data removed]"
          },
          "metadata": {}
        },
        {
          "output_type": "stream",
          "name": "stdout",
          "text": [
            "[t-SNE] Computing 64 nearest neighbors...\n",
            "[t-SNE] Indexed 65 samples in 0.003s...\n",
            "[t-SNE] Computed neighbors for 65 samples in 0.005s...\n",
            "[t-SNE] Computed conditional probabilities for sample 65 / 65\n",
            "[t-SNE] Mean sigma: 1.086905\n",
            "[t-SNE] KL divergence after 250 iterations with early exaggeration: 42.421482\n",
            "[t-SNE] KL divergence after 300 iterations: 0.035692\n"
          ]
        },
        {
          "output_type": "display_data",
          "data": {
            "text/plain": [
              "<Figure size 800x800 with 2 Axes>"
            ],
            "image/png": "[encoded data removed]"
          },
          "metadata": {}
        }
      ]
    },
    {
      "cell_type": "markdown",
      "source": [
        "#mAP"
      ],
      "metadata": {
        "id": "1yvK_XsPtSv5"
      }
    },
    {
      "cell_type": "code",
      "source": [
        "#db_codes = test_codes[idx,:]\n",
        "#test_codes2 = test_codes[~idx,:]\n",
        "\n",
        "import logging\n",
        "\n",
        "import numpy as np\n",
        "import torch\n",
        "\n",
        "def tensor_to_dataset(tensor, transform=None):\n",
        "    class TransformTensorDataset(Dataset):\n",
        "        def __init__(self, tensor, ts=None):\n",
        "            super(TransformTensorDataset, self).__init__()\n",
        "            self.tensor = tensor\n",
        "            self.ts = ts\n",
        "\n",
        "        def __getitem__(self, index):\n",
        "            if self.ts is not None:\n",
        "                return self.ts(self.tensor[index])\n",
        "            return self.tensor[index]\n",
        "\n",
        "        def __len__(self):\n",
        "            return len(self.tensor)\n",
        "\n",
        "    ttd = TransformTensorDataset(tensor, transform)\n",
        "    return ttd\n",
        "\n",
        "class Timer(object):\n",
        "    def __init__(self):\n",
        "        self.start = 0\n",
        "        self.end = 0\n",
        "        self.total = 0\n",
        "\n",
        "    def tick(self):\n",
        "        self.start = time.time()\n",
        "        return self.start\n",
        "\n",
        "    def toc(self):\n",
        "        self.end = time.time()\n",
        "        self.total = self.end - self.start\n",
        "        return self.end\n",
        "\n",
        "    def print_time(self, title):\n",
        "        print(f'{title} time: {self.total:.4f}s')\n",
        "\n",
        "\n",
        "def get_hamm_dist(codes, centroids, margin=0, normalize=False):\n",
        "    with torch.no_grad():\n",
        "        nbit = centroids.size(1)\n",
        "        dist = 0.5 * (nbit - torch.matmul(codes.sign(), centroids.sign().t()))\n",
        "\n",
        "        if normalize:\n",
        "            dist = dist / nbit\n",
        "\n",
        "        if margin == 0:\n",
        "            return dist\n",
        "        else:\n",
        "            codes_clone = codes.clone()\n",
        "            codes_clone[codes_clone.abs() < margin] = 0\n",
        "            dist_margin = 0.5 * (nbit - torch.matmul(codes_clone.sign(), centroids.sign().t()))\n",
        "            if normalize:\n",
        "                dist_margin = dist_margin / nbit\n",
        "            return dist, dist_margin\n",
        "\n",
        "\n",
        "def get_codes_and_labels(model, loader):\n",
        "    if torch.cuda.is_available():\n",
        "        device = torch.device('cuda')\n",
        "    else:\n",
        "        device = torch.device('cpu')\n",
        "\n",
        "    vs = []\n",
        "    ts = []\n",
        "    for e, (d, t) in enumerate(loader):\n",
        "        print(f'[{e + 1}/{len(loader)}]', end='\\r')\n",
        "        with torch.no_grad():\n",
        "            # model forward\n",
        "            d, t = d.to(device), t.to(device)\n",
        "            v = model(d)\n",
        "            if isinstance(v, tuple):\n",
        "                v = v[0]\n",
        "\n",
        "            vs.append(v)\n",
        "            ts.append(t)\n",
        "\n",
        "    print()\n",
        "    vs = torch.cat(vs)\n",
        "    ts = torch.cat(ts)\n",
        "    return vs, ts\n",
        "\n",
        "def dataloader(d, bs=256, shuffle=True, workers=-1, drop_last=True):\n",
        "    if workers < 0:\n",
        "        workers = 16\n",
        "    l = DataLoader(d,\n",
        "                   bs,\n",
        "                   shuffle,\n",
        "                   drop_last=drop_last,\n",
        "                   num_workers=workers)\n",
        "    return l\n",
        "\n",
        "'''\n",
        "def calculate_mAP(db_codes, db_labels,\n",
        "                  test_codes, test_labels,\n",
        "                  R, threshold=0.):\n",
        "    # clone in case changing value of the original codes\n",
        "    db_codes = db_codes.clone()\n",
        "    test_codes = test_codes.clone()\n",
        "\n",
        "    # if value within margin, set to 0\n",
        "    if threshold != 0:\n",
        "        db_codes[db_codes.abs() < threshold] = 0\n",
        "        test_codes[test_codes.abs() < threshold] = 0\n",
        "\n",
        "    # binarized\n",
        "    db_codes = torch.sign(db_codes)  # (ndb, nbit)\n",
        "    test_codes = torch.sign(test_codes)  # (nq, nbit)\n",
        "\n",
        "    db_labels = db_labels.cpu().numpy() #\n",
        "    test_labels = test_labels.cpu().numpy()\n",
        "\n",
        "    dist = []\n",
        "    nbit = db_codes.size(1)\n",
        "\n",
        "    timer = Timer()\n",
        "    total_timer = Timer()\n",
        "\n",
        "    timer.tick()\n",
        "    total_timer.tick()\n",
        "\n",
        "    with torch.no_grad(): #No need to compute gradients, just sort and count data\n",
        "        db_codes_ttd = tensor_to_dataset(db_codes)\n",
        "        db_codes_loader = dataloader(db_codes_ttd, 32, False, 0, False) #Data will be loaded in batches of 32\n",
        "\n",
        "        # calculate hamming distance\n",
        "        for i, db_code in enumerate(db_codes_loader):\n",
        "            dist.append(0.5 * (nbit - torch.matmul(test_codes, db_code.t())).cpu()) #Compares test_codes and db_code and evaluates how diff. they are then appends it to dist\n",
        "            timer.toc() #How long it takes to compare each\n",
        "            print(f'Distance [{i + 1}/{len(db_codes_loader)}] ({timer.total:.2f}s)', end='\\r')\n",
        "\n",
        "        dist = torch.cat(dist, 1)  # .numpy()\n",
        "        print()\n",
        "\n",
        "    # fast sort\n",
        "    timer.tick()\n",
        "    # different sorting will have affect on mAP score! because the order with same hamming distance might be diff.\n",
        "    # unsorted_ids = np.argpartition(dist, R - 1)[:, :R]\n",
        "\n",
        "    # torch sorting is quite fast, pytorch ftw!!!\n",
        "    topk_ids = torch.topk(dist, R, dim=1, largest=False)[1].cpu()\n",
        "    timer.toc()\n",
        "    print(f'Sorting ({timer.total:.2f}s)')\n",
        "\n",
        "    # calculate mAP\n",
        "    timer.tick()\n",
        "    APx = []\n",
        "    for i in range(dist.shape[0]):\n",
        "\n",
        "        label = test_labels[i]\n",
        "        label[label == 0] = -1\n",
        "        idx = topk_ids[i, :]\n",
        "        # idx = idx[np.argsort(dist[i, :][idx])]\n",
        "        imatch = np.sum(np.equal(db_labels[idx[0: R], :], label), 1) > 0\n",
        "        rel = np.sum(imatch)\n",
        "        Lx = np.cumsum(imatch)\n",
        "        Px = Lx.astype(float) / np.arange(1, R + 1, 1)\n",
        "        if rel != 0:\n",
        "            APx.append(np.sum(Px * imatch) / rel)\n",
        "        else:  # didn't retrieve anything relevant\n",
        "            APx.append(0)\n",
        "        timer.toc()\n",
        "        print(f'Query [{i + 1}/{dist.shape[0]}] ({timer.total:.2f}s)', end='\\r')\n",
        "\n",
        "    print()\n",
        "    total_timer.toc()\n",
        "    logging.info(f'Total time usage for calculating mAP: {total_timer.total:.2f}s')\n",
        "\n",
        "    return np.mean(np.array(APx))\n",
        "'''\n",
        "\n",
        "def calculate_mAP(db_codes, db_labels,\n",
        "                  test_codes, test_labels,\n",
        "                  R, threshold=0.):\n",
        "    # clone in case changing value of the original codes\n",
        "    db_codes = db_codes.clone()\n",
        "    test_codes = test_codes.clone()\n",
        "\n",
        "    # if value within margin, set to 0\n",
        "    if threshold != 0:\n",
        "        db_codes[db_codes.abs() < threshold] = 0\n",
        "        test_codes[test_codes.abs() < threshold] = 0\n",
        "\n",
        "    # binarized\n",
        "    db_codes = torch.sign(db_codes)  # (ndb, nbit)\n",
        "    test_codes = torch.sign(test_codes)  # (nq, nbit)\n",
        "\n",
        "    print(db_codes)\n",
        "    print(test_codes)\n",
        "    db_labels = db_labels.cpu().numpy() #\n",
        "    test_labels = test_labels.cpu().numpy()\n",
        "\n",
        "    dist = []\n",
        "    nbit = db_codes.size(1)\n",
        "\n",
        "    timer = Timer()\n",
        "    total_timer = Timer()\n",
        "\n",
        "    timer.tick()\n",
        "    total_timer.tick()\n",
        "\n",
        "    with torch.no_grad(): #No need to compute gradients, just sort and count data\n",
        "        db_codes_ttd = tensor_to_dataset(db_codes)\n",
        "        db_codes_loader = dataloader(db_codes_ttd, 32, False, 0, False) #Data will be loaded in batches of 32\n",
        "\n",
        "        # calculate hamming distance\n",
        "        for i, db_code in enumerate(db_codes_loader):\n",
        "            dist.append(0.5 * (nbit - torch.matmul(test_codes, db_code.t())).cpu()) #Compares test_codes and db_code and evaluates how diff. they are then appends it to dist\n",
        "            timer.toc() #How long it takes to compare each\n",
        "            print(f'Distance [{i + 1}/{len(db_codes_loader)}] ({timer.total:.2f}s)', end='\\r')\n",
        "\n",
        "        dist = torch.cat(dist, 1)  # .numpy()\n",
        "        print()\n",
        "\n",
        "    # fast sort\n",
        "    timer.tick()\n",
        "    # different sorting will have affect on mAP score! because the order with same hamming distance might be diff.\n",
        "    # unsorted_ids = np.argpartition(dist, R - 1)[:, :R]\n",
        "\n",
        "    # torch sorting is quite fast, pytorch ftw!!!\n",
        "    topk_ids = torch.topk(dist, R, dim=1, largest=False)[1].cpu()\n",
        "    timer.toc()\n",
        "    print(f'Sorting ({timer.total:.2f}s)')\n",
        "\n",
        "    # calculate mAP\n",
        "    timer.tick()\n",
        "    APx = []\n",
        "    for i in range(dist.shape[0]):\n",
        "        label = test_labels[i, :]\n",
        "        label[label == 0] = -1\n",
        "        idx = topk_ids[i, :]\n",
        "        # idx = idx[np.argsort(dist[i, :][idx])]\n",
        "        imatch = np.sum(np.equal(db_labels[idx[0: R], :], label), 1) > 0\n",
        "        rel = np.sum(imatch)\n",
        "        Lx = np.cumsum(imatch)\n",
        "        Px = Lx.astype(float) / np.arange(1, R + 1, 1)\n",
        "        if rel != 0:\n",
        "            APx.append(np.sum(Px * imatch) / rel)\n",
        "        else:  # didn't retrieve anything relevant\n",
        "            APx.append(0)\n",
        "        timer.toc()\n",
        "        print(f'Query [{i + 1}/{dist.shape[0]}] ({timer.total:.2f}s)', end='\\r')\n",
        "\n",
        "    print()\n",
        "    total_timer.toc()\n",
        "    logging.info(f'Total time usage for calculating mAP: {total_timer.total:.2f}s')\n",
        "    return np.mean(np.array(APx)),dist\n",
        "\n",
        "def sign_dist(inputs, centroids, margin=0):\n",
        "    n, b1 = inputs.size()\n",
        "    nclass, b2 = centroids.size()\n",
        "\n",
        "    assert b1 == b2, 'inputs and centroids must have same number of bit'\n",
        "\n",
        "    # sl = relu(margin - x*y)\n",
        "    out = inputs.view(n, 1, b1) * centroids.sign().view(1, nclass, b1)\n",
        "    out = torch.relu(margin - out)  # (n, nclass, nbit)\n",
        "\n",
        "    return out\n",
        "\n",
        "\n",
        "def calculate_similarity_matrix(centroids):\n",
        "    nclass = centroids.size(0)\n",
        "    sim = torch.zeros(nclass, nclass, device=centroids.device)\n",
        "\n",
        "    for rc in range(nclass):\n",
        "        for cc in range(nclass):\n",
        "            sim[rc, cc] = (centroids[rc] == centroids[cc]).float().mean()\n",
        "\n",
        "    return sim\n",
        "\n",
        "\n",
        "def first_ten_labels_data(input_data, input_label):\n",
        "    #input_data: tensor of N x M\n",
        "    #input_label: tensor of N x 1\n",
        "    #\n",
        "    #Convert input_data to the revised data\n",
        "    #data_revised: tensor of N' x M\n",
        "    #label_revised: tensor of N' x1 , each one is the class label\n",
        "    input_label = input_label.reshape(-1)\n",
        "    #transform input_label to tensor\n",
        "    input_label = torch.tensor(input_label)\n",
        "\n",
        "    #create a mask for labels lower than 10\n",
        "    mask = input_label < 10\n",
        "\n",
        "    #apply mask to labels and data\n",
        "    label_revised = input_label[mask]\n",
        "    data_revised = input_data[mask]\n",
        "\n",
        "    #inputs = test_outt[1]\n",
        "    #inputs[label_revised,:]\n",
        "    label_revised = label_revised.reshape([-1,1])\n",
        "    return data_revised, label_revised\n",
        "\n",
        "from pandas._libs.lib import map_infer\n",
        "#Change these into a function\n",
        "\n",
        "\n",
        "#model_resnet.load_state_dict(torch.load('./drive/MyDrive/resnet_model_orthohashloss_300epoch_1024batch_validation.pth')) Don't load anything atm\n",
        "\n",
        "import torch\n",
        "import numpy as np\n",
        "\n",
        "def compute_mAP_with_testdb(test_hashcode, test_labels,R=10):\n",
        "    #test_hashcode: tensor of N x M\n",
        "    #test_label: tensor of N x 1\n",
        "    #\n",
        "    #mAP\n",
        "\n",
        "    idx = torch.randn((test_hashcode.shape[0]))>0\n",
        "    test_labels = test_labels.reshape(-1)  # removing the second dimension\n",
        "    test_labels = torch.nn.functional.one_hot(torch.tensor(test_labels).long(), num_classes=20).numpy()\n",
        "\n",
        "    db_codes = test_hashcode[idx,:]\n",
        "    test_codes = test_hashcode[~idx,:]\n",
        "    db_labels = test_labels[idx,:]\n",
        "    test_labels = test_labels[~idx,:]\n",
        "\n",
        "\n",
        "    print(db_codes.shape)\n",
        "    print(db_labels.shape)\n",
        "    print(test_codes.shape)\n",
        "    print(test_labels.shape)\n",
        "\n",
        "    dist = []\n",
        "    nbit = db_codes.size(1)\n",
        "\n",
        "    mAP = calculate_mAP(db_codes, torch.tensor(db_labels), test_codes, torch.tensor(test_labels),R=10)\n",
        "    return mAP\n",
        "\n",
        "def compute_mAP_from_model(model, test_data, test_labels,R=10):\n",
        "    #model: a deep learning model\n",
        "    #test_data: the testing time series data of N x T x M\n",
        "    #test_labels: the label N x 1\n",
        "    #R: top R candidate for mAP\n",
        "\n",
        "    #return mAP\n",
        "    #out = model(torch.tensor(test_data).transpose(1,2).float())\n",
        "    #test_hashcode = out[1]\n",
        "    pred, embedding = model_resnet(test_data.float())\n",
        "    test_hashcode = embedding/embedding.norm(dim=1).unsqueeze(dim=1)\n",
        "\n",
        "    return compute_mAP_with_testdb(test_hashcode, test_labels,R)\n",
        "\n",
        "#out = model_resnet(torch.tensor(test_data).transpose(1,2).float())\n",
        "#inputs = out[1]\n",
        "\n",
        "\n",
        "#test_hashcode_new, test_label_new = first_ten_labels_data(inputs, test_label)\n",
        "\n",
        "#compute_mAP_with_testdb(test_hashcode_new, test_label, R=2)\n"
      ],
      "metadata": {
        "id": "e41dBvCptSdZ"
      },
      "execution_count": null,
      "outputs": []
    },
    {
      "cell_type": "code",
      "source": [
        "mAP = compute_mAP_from_model(model_resnet.cpu(), train_data.cpu() , train_label.cpu(),R=10)"
      ],
      "metadata": {
        "colab": {
          "base_uri": "https://localhost:8080/"
        },
        "id": "9BsMX8uxvVgb",
        "outputId": "a7cae32b-270a-4a9d-d602-b959be0e94fe"
      },
      "execution_count": null,
      "outputs": [
        {
          "output_type": "stream",
          "name": "stdout",
          "text": [
            "torch.Size([77, 64])\n",
            "(77, 20)\n",
            "torch.Size([84, 64])\n",
            "(84, 20)\n",
            "tensor([[ 1., -1.,  1.,  ..., -1.,  1.,  1.],\n",
            "        [-1.,  1., -1.,  ..., -1., -1., -1.],\n",
            "        [ 1., -1., -1.,  ...,  1., -1., -1.],\n",
            "        ...,\n",
            "        [-1.,  1.,  1.,  ...,  1.,  1.,  1.],\n",
            "        [-1.,  1., -1.,  ..., -1., -1., -1.],\n",
            "        [ 1., -1., -1.,  ...,  1., -1., -1.]], grad_fn=<SignBackward0>)\n",
            "tensor([[-1.,  1.,  1.,  ...,  1.,  1.,  1.],\n",
            "        [-1.,  1.,  1.,  ...,  1.,  1.,  1.],\n",
            "        [-1.,  1., -1.,  ..., -1., -1., -1.],\n",
            "        ...,\n",
            "        [ 1., -1., -1.,  ...,  1., -1., -1.],\n",
            "        [ 1., -1., -1.,  ...,  1., -1., -1.],\n",
            "        [ 1., -1., -1.,  ...,  1., -1., -1.]], grad_fn=<SignBackward0>)\n",
            "Distance [1/3] (0.01s)\rDistance [2/3] (0.01s)\rDistance [3/3] (0.01s)\r\n",
            "Sorting (0.00s)\n",
            "Query [1/84] (0.00s)\rQuery [2/84] (0.00s)\rQuery [3/84] (0.00s)\rQuery [4/84] (0.00s)\rQuery [5/84] (0.00s)\rQuery [6/84] (0.01s)\rQuery [7/84] (0.01s)\rQuery [8/84] (0.01s)\rQuery [9/84] (0.01s)\rQuery [10/84] (0.01s)\rQuery [11/84] (0.01s)\rQuery [12/84] (0.01s)\rQuery [13/84] (0.01s)\rQuery [14/84] (0.01s)\rQuery [15/84] (0.01s)\rQuery [16/84] (0.01s)\rQuery [17/84] (0.01s)\rQuery [18/84] (0.01s)\rQuery [19/84] (0.02s)\rQuery [20/84] (0.02s)\rQuery [21/84] (0.02s)\rQuery [22/84] (0.02s)\rQuery [23/84] (0.02s)\rQuery [24/84] (0.02s)\rQuery [25/84] (0.02s)\rQuery [26/84] (0.02s)\rQuery [27/84] (0.02s)\rQuery [28/84] (0.02s)\rQuery [29/84] (0.02s)\rQuery [30/84] (0.02s)\rQuery [31/84] (0.02s)\rQuery [32/84] (0.02s)\rQuery [33/84] (0.02s)\rQuery [34/84] (0.02s)\rQuery [35/84] (0.02s)\rQuery [36/84] (0.02s)\rQuery [37/84] (0.02s)\rQuery [38/84] (0.02s)\rQuery [39/84] (0.02s)\rQuery [40/84] (0.02s)\rQuery [41/84] (0.02s)\rQuery [42/84] (0.03s)\rQuery [43/84] (0.03s)\rQuery [44/84] (0.03s)\rQuery [45/84] (0.03s)\rQuery [46/84] (0.03s)\rQuery [47/84] (0.03s)\rQuery [48/84] (0.03s)\rQuery [49/84] (0.03s)\rQuery [50/84] (0.03s)\rQuery [51/84] (0.03s)\rQuery [52/84] (0.03s)\rQuery [53/84] (0.03s)\rQuery [54/84] (0.03s)\rQuery [55/84] (0.03s)\rQuery [56/84] (0.03s)\rQuery [57/84] (0.03s)\rQuery [58/84] (0.03s)\rQuery [59/84] (0.03s)\rQuery [60/84] (0.03s)\rQuery [61/84] (0.03s)\rQuery [62/84] (0.03s)\rQuery [63/84] (0.03s)\rQuery [64/84] (0.03s)\rQuery [65/84] (0.03s)\rQuery [66/84] (0.03s)\rQuery [67/84] (0.03s)\rQuery [68/84] (0.03s)\rQuery [69/84] (0.03s)\rQuery [70/84] (0.04s)\rQuery [71/84] (0.04s)\rQuery [72/84] (0.04s)\rQuery [73/84] (0.04s)\rQuery [74/84] (0.04s)\rQuery [75/84] (0.04s)\rQuery [76/84] (0.04s)\rQuery [77/84] (0.04s)\rQuery [78/84] (0.04s)\rQuery [79/84] (0.04s)\rQuery [80/84] (0.04s)\rQuery [81/84] (0.05s)\rQuery [82/84] (0.05s)\rQuery [83/84] (0.05s)\rQuery [84/84] (0.05s)\r\n"
          ]
        },
        {
          "output_type": "stream",
          "name": "stderr",
          "text": [
            "<ipython-input-13-1a0f0b4e3b06>:320: UserWarning: To copy construct from a tensor, it is recommended to use sourceTensor.clone().detach() or sourceTensor.clone().detach().requires_grad_(True), rather than torch.tensor(sourceTensor).\n",
            "  test_labels = torch.nn.functional.one_hot(torch.tensor(test_labels).long(), num_classes=20).numpy()\n"
          ]
        }
      ]
    },
    {
      "cell_type": "code",
      "source": [
        "mAP"
      ],
      "metadata": {
        "colab": {
          "base_uri": "https://localhost:8080/"
        },
        "id": "1G_61sYkwpIq",
        "outputId": "ba5e4e13-cf8c-47b1-bc67-2a9e56be8fdf"
      },
      "execution_count": null,
      "outputs": [
        {
          "output_type": "execute_result",
          "data": {
            "text/plain": [
              "(0.8936081922848503,\n",
              " tensor([[44., 42., 43.,  ...,  1., 39., 43.],\n",
              "         [43., 41., 44.,  ...,  0., 40., 44.],\n",
              "         [42.,  0., 43.,  ..., 41.,  3., 43.],\n",
              "         ...,\n",
              "         [41., 43.,  0.,  ..., 44., 44.,  0.],\n",
              "         [41., 43.,  0.,  ..., 44., 44.,  0.],\n",
              "         [41., 43.,  0.,  ..., 44., 44.,  0.]]))"
            ]
          },
          "metadata": {},
          "execution_count": 15
        }
      ]
    },
    {
      "cell_type": "code",
      "source": [
        "model_resnet = resnet34()  # initialize the model\n",
        "model_resnet.conv1 = torch.nn.Conv1d(338, 64, kernel_size=7, stride=2, padding=3, bias=False)  # adjust the first layer according to your data\n",
        "model_resnet.load_state_dict(torch.load('/content/drive/MyDrive/Senior_Project/best_hashnet_model.pth'))\n",
        "\n",
        "test_data_tensor = test_data_tensor.float()  # adjust the tensor and move to device\n",
        "\n",
        "model_resnet.eval()  # set the model to evaluation mode\n",
        "with torch.no_grad():  # turn off gradient computation\n",
        "    pred_test, embedding_test = model_resnet(train_data)"
      ],
      "metadata": {
        "id": "gyXIPvvFvbJV"
      },
      "execution_count": null,
      "outputs": []
    },
    {
      "cell_type": "code",
      "source": [
        "embedding_test.sign() # Not binary code"
      ],
      "metadata": {
        "id": "e-17p-VNyNlS",
        "colab": {
          "base_uri": "https://localhost:8080/"
        },
        "outputId": "008283cb-2990-4fd3-adc2-e38ee039dd79"
      },
      "execution_count": null,
      "outputs": [
        {
          "output_type": "execute_result",
          "data": {
            "text/plain": [
              "tensor([[-1.,  1.,  1.,  ...,  1., -1.,  1.],\n",
              "        [-1., -1., -1.,  ...,  1., -1.,  1.],\n",
              "        [ 1., -1., -1.,  ...,  1., -1.,  1.],\n",
              "        ...,\n",
              "        [-1., -1., -1.,  ...,  1., -1.,  1.],\n",
              "        [ 1., -1., -1.,  ...,  1., -1.,  1.],\n",
              "        [ 1., -1., -1.,  ...,  1., -1.,  1.]])"
            ]
          },
          "metadata": {},
          "execution_count": 9
        }
      ]
    },
    {
      "cell_type": "code",
      "source": [
        "embedding_test.shape"
      ],
      "metadata": {
        "colab": {
          "base_uri": "https://localhost:8080/"
        },
        "id": "j3Uqf9VVuu97",
        "outputId": "1c53a516-8745-4564-f580-5f45545e33ed"
      },
      "execution_count": null,
      "outputs": [
        {
          "output_type": "execute_result",
          "data": {
            "text/plain": [
              "torch.Size([161, 64])"
            ]
          },
          "metadata": {},
          "execution_count": 10
        }
      ]
    },
    {
      "cell_type": "code",
      "source": [
        "embedding_numpy = embedding_test.sign().cpu().numpy()\n",
        "\n",
        "# Set NumPy print options\n",
        "#np.set_printoptions(threshold=np.inf)\n",
        "\n",
        "# Print the entire NumPy array\n",
        "#print(embedding_numpy)"
      ],
      "metadata": {
        "id": "3la1Uv6Svnyp"
      },
      "execution_count": null,
      "outputs": []
    },
    {
      "cell_type": "code",
      "source": [
        "embedding_numpy.shape\n"
      ],
      "metadata": {
        "colab": {
          "base_uri": "https://localhost:8080/"
        },
        "id": "zom3MZzYxzX6",
        "outputId": "edc36f6c-ed3b-4fac-dca7-ae7108346011"
      },
      "execution_count": null,
      "outputs": [
        {
          "output_type": "execute_result",
          "data": {
            "text/plain": [
              "(161, 64)"
            ]
          },
          "metadata": {},
          "execution_count": 12
        }
      ]
    },
    {
      "cell_type": "code",
      "source": [
        "temp_embedding_numpy = (embedding_numpy + 1)/2"
      ],
      "metadata": {
        "id": "WWfZdH25vs6S"
      },
      "execution_count": null,
      "outputs": []
    },
    {
      "cell_type": "code",
      "source": [
        "# Given embedding_test.sign() Decimal Value = (binary digit) * 2^(position) For Loop"
      ],
      "metadata": {
        "id": "P9GtWeF2rTNK"
      },
      "execution_count": null,
      "outputs": []
    },
    {
      "cell_type": "code",
      "source": [
        "embedding_decimal_value = []\n",
        "\n",
        "for i in range(temp_embedding_numpy.shape[0]):\n",
        "    decimal_value = 0\n",
        "    for j in range(temp_embedding_numpy.shape[1]):\n",
        "        decimal_value += temp_embedding_numpy[i][j] * 2**j\n",
        "    embedding_decimal_value.append(decimal_value)"
      ],
      "metadata": {
        "id": "o3euSUSnu53X"
      },
      "execution_count": null,
      "outputs": []
    },
    {
      "cell_type": "code",
      "source": [
        "embedding_decimal_value"
      ],
      "metadata": {
        "colab": {
          "base_uri": "https://localhost:8080/"
        },
        "id": "0r5YJogDxVHj",
        "outputId": "ea88c485-c0de-40ca-e853-af355bce0071"
      },
      "execution_count": null,
      "outputs": [
        {
          "output_type": "execute_result",
          "data": {
            "text/plain": [
              "[1.3661598262856577e+19,\n",
              " 1.245006488498159e+19,\n",
              " 1.2415720819075086e+19,\n",
              " 1.2450060486935079e+19,\n",
              " 1.2415720819075086e+19,\n",
              " 1.358497419090752e+19,\n",
              " 1.2415720819075086e+19,\n",
              " 1.245006488498159e+19,\n",
              " 1.2415720819075086e+19,\n",
              " 1.3584971990810522e+19,\n",
              " 1.2415720819075086e+19,\n",
              " 1.3085137510553154e+19,\n",
              " 1.245006488498159e+19,\n",
              " 1.2415720819075086e+19,\n",
              " 1.3584974259694105e+19,\n",
              " 1.2415720819075086e+19,\n",
              " 1.3584974259656094e+19,\n",
              " 1.2415720819075086e+19,\n",
              " 1.8273284281283965e+19,\n",
              " 1.2415720819075086e+19,\n",
              " 1.2449497537115875e+19,\n",
              " 1.3084012160400028e+19,\n",
              " 1.3584971990810522e+19,\n",
              " 1.2415720819075086e+19,\n",
              " 1.3584974259660288e+19,\n",
              " 1.2415720819075086e+19,\n",
              " 1.8273257893004898e+19,\n",
              " 1.3584974190974628e+19,\n",
              " 1.2415720819075086e+19,\n",
              " 1.3584971991951372e+19,\n",
              " 1.245006488498159e+19,\n",
              " 1.2415720819075086e+19,\n",
              " 1.2415720819075086e+19,\n",
              " 1.36615806706705e+19,\n",
              " 1.3657094663229207e+19,\n",
              " 4.4337226253006884e+18,\n",
              " 1.366159826285448e+19,\n",
              " 4.4334411503213563e+18,\n",
              " 1.3661598262856577e+19,\n",
              " 1.3085137510551056e+19,\n",
              " 1.2415720819075086e+19,\n",
              " 1.3661571874577478e+19,\n",
              " 1.3584971990810522e+19,\n",
              " 1.3584971991884263e+19,\n",
              " 1.308936018495753e+19,\n",
              " 1.245006488498159e+19,\n",
              " 1.3661580670670533e+19,\n",
              " 1.3661598262856577e+19,\n",
              " 1.3584974259656094e+19,\n",
              " 1.2415720819075086e+19,\n",
              " 1.245006488498159e+19,\n",
              " 1.2415720819075086e+19,\n",
              " 1.245006488498159e+19,\n",
              " 1.2432050486203675e+19,\n",
              " 1.2415720819075086e+19,\n",
              " 1.3584971990810522e+19,\n",
              " 1.3661535590693237e+19,\n",
              " 1.2415720819075086e+19,\n",
              " 1.2415720819075086e+19,\n",
              " 3.7852042789567155e+18,\n",
              " 3.8617654726246354e+18,\n",
              " 1.245006488498159e+19,\n",
              " 1.3661535590693237e+19,\n",
              " 1.2450064884713157e+19,\n",
              " 1.3584971991951372e+19,\n",
              " 1.2415720819075086e+19,\n",
              " 1.358497199087763e+19,\n",
              " 1.2415720819075086e+19,\n",
              " 1.245006488498159e+19,\n",
              " 1.2415720819075086e+19,\n",
              " 1.3584971990810522e+19,\n",
              " 1.2415720819075086e+19,\n",
              " 1.8273257893004898e+19,\n",
              " 1.3584971990810522e+19,\n",
              " 1.2415720819075086e+19,\n",
              " 1.3584692784679383e+19,\n",
              " 1.2415720819075086e+19,\n",
              " 1.2432050486203675e+19,\n",
              " 1.2415720819075086e+19,\n",
              " 1.245006488498159e+19,\n",
              " 1.3661598262856577e+19,\n",
              " 1.245006488498159e+19,\n",
              " 1.2415720819075086e+19,\n",
              " 1.366159826285448e+19,\n",
              " 4.433441150321356e+18,\n",
              " 3.793930003368963e+18,\n",
              " 4.438226225999703e+18,\n",
              " 1.3584971990810522e+19,\n",
              " 1.2415720819075086e+19,\n",
              " 1.3085137510551056e+19,\n",
              " 1.2415720539902208e+19,\n",
              " 1.2415720819075086e+19,\n",
              " 1.8273284281283965e+19,\n",
              " 1.358497425966055e+19,\n",
              " 1.2415720819075086e+19,\n",
              " 1.245006488498159e+19,\n",
              " 1.2415720819075086e+19,\n",
              " 1.2415720819075086e+19,\n",
              " 1.245006488498159e+19,\n",
              " 1.2415720819075086e+19,\n",
              " 1.2415720819075086e+19,\n",
              " 1.245006488498159e+19,\n",
              " 1.2415720819075086e+19,\n",
              " 1.3661598262856577e+19,\n",
              " 1.3661598262856577e+19,\n",
              " 1.2415720819075086e+19,\n",
              " 1.245006488498159e+19,\n",
              " 1.2415720819075086e+19,\n",
              " 1.3085137510551056e+19,\n",
              " 1.2415720819075086e+19,\n",
              " 1.245006488498159e+19,\n",
              " 1.2415720819075086e+19,\n",
              " 1.245006488498159e+19,\n",
              " 1.2415720819075086e+19,\n",
              " 1.3661598262856577e+19,\n",
              " 1.3584971990810522e+19,\n",
              " 1.2415720819075086e+19,\n",
              " 1.8273257893004898e+19,\n",
              " 1.3584971990810522e+19,\n",
              " 1.2415720819075086e+19,\n",
              " 1.3584974259656094e+19,\n",
              " 1.2415720819075086e+19,\n",
              " 1.3661598262856577e+19,\n",
              " 1.245006488498159e+19,\n",
              " 1.2415720819075086e+19,\n",
              " 1.245006488498159e+19,\n",
              " 1.2415720819075086e+19,\n",
              " 1.2449497537115875e+19,\n",
              " 1.2415720819075086e+19,\n",
              " 1.3661598262856577e+19,\n",
              " 1.245006488498159e+19,\n",
              " 1.2415720819075086e+19,\n",
              " 1.2449497537115875e+19,\n",
              " 1.2415720819075086e+19,\n",
              " 1.2450064884713155e+19,\n",
              " 1.2415720819075086e+19,\n",
              " 1.245006488498159e+19,\n",
              " 1.2415720819075086e+19,\n",
              " 1.8273284281283965e+19,\n",
              " 1.2432050486203675e+19,\n",
              " 1.2415720819075086e+19,\n",
              " 1.3584974258586808e+19,\n",
              " 1.2415720819075086e+19,\n",
              " 1.358497199087763e+19,\n",
              " 1.2415720819075086e+19,\n",
              " 1.3584974259656094e+19,\n",
              " 1.2415720819075086e+19,\n",
              " 1.3584692784612274e+19,\n",
              " 1.2415720819075086e+19,\n",
              " 1.358497199087763e+19,\n",
              " 1.2415720819075086e+19,\n",
              " 1.3584974258620363e+19,\n",
              " 1.245006488498159e+19,\n",
              " 1.2415720819075086e+19,\n",
              " 1.358497199087763e+19,\n",
              " 1.2415720819075086e+19,\n",
              " 1.245006488498159e+19,\n",
              " 1.2415720819075086e+19,\n",
              " 1.245006488498159e+19,\n",
              " 1.2415720819075086e+19,\n",
              " 1.2415720819075086e+19]"
            ]
          },
          "metadata": {},
          "execution_count": 16
        }
      ]
    },
    {
      "cell_type": "code",
      "source": [
        "# embedding decimal value we need to"
      ],
      "metadata": {
        "id": "XWcZmo8rx-hr"
      },
      "execution_count": null,
      "outputs": []
    },
    {
      "cell_type": "code",
      "source": [
        "test_data_tensor.shape"
      ],
      "metadata": {
        "colab": {
          "base_uri": "https://localhost:8080/"
        },
        "id": "ft6I41n_0xfo",
        "outputId": "6d634fc7-32d7-42b3-cae2-b04b13b75ab9"
      },
      "execution_count": null,
      "outputs": [
        {
          "output_type": "execute_result",
          "data": {
            "text/plain": [
              "torch.Size([199816, 338, 1])"
            ]
          },
          "metadata": {},
          "execution_count": 18
        }
      ]
    },
    {
      "cell_type": "markdown",
      "source": [
        "#Test Data Transformation into Binary"
      ],
      "metadata": {
        "id": "KInHnoru1Fl7"
      }
    },
    {
      "cell_type": "code",
      "source": [
        "model_resnet = resnet34()  # initialize the model\n",
        "model_resnet.conv1 = torch.nn.Conv1d(338, 64, kernel_size=7, stride=2, padding=3, bias=False)  # adjust the first layer according to your data\n",
        "model_resnet.load_state_dict(torch.load('/content/drive/MyDrive/Senior_Project/best_hashnet_model.pth'))\n",
        "\n",
        "test_data_tensor = test_data_tensor.float()  # adjust the tensor and move to device\n",
        "\n",
        "model_resnet.eval()  # set the model to evaluation mode\n",
        "with torch.no_grad():  # turn off gradient computation\n",
        "    t_pred_test, t_embedding_test = model_resnet(test_data_tensor)"
      ],
      "metadata": {
        "id": "8-QJfER105Og"
      },
      "execution_count": null,
      "outputs": []
    },
    {
      "cell_type": "code",
      "source": [
        "t_embedding_numpy = t_embedding_test.sign().cpu().numpy()"
      ],
      "metadata": {
        "id": "075NnRSw1Vt2"
      },
      "execution_count": null,
      "outputs": []
    },
    {
      "cell_type": "code",
      "source": [
        "t_temp_embedding_numpy = (t_embedding_numpy + 1)/2"
      ],
      "metadata": {
        "id": "OcpQ7JqR1dNj"
      },
      "execution_count": null,
      "outputs": []
    },
    {
      "cell_type": "code",
      "source": [
        "t_embedding_decimal_value = []\n",
        "\n",
        "for i in range(t_temp_embedding_numpy.shape[0]):\n",
        "    decimal_value = 0\n",
        "    for j in range(t_temp_embedding_numpy.shape[1]):\n",
        "        decimal_value += t_temp_embedding_numpy[i][j] * 2**j\n",
        "    t_embedding_decimal_value.append(decimal_value)"
      ],
      "metadata": {
        "id": "P7fRZjwK1gCn"
      },
      "execution_count": null,
      "outputs": []
    },
    {
      "cell_type": "code",
      "source": [
        "a = torch.tensor(t_embedding_decimal_value).float()\n"
      ],
      "metadata": {
        "id": "_VUFEoXS1tPh"
      },
      "execution_count": null,
      "outputs": []
    },
    {
      "cell_type": "code",
      "source": [
        "a.shape"
      ],
      "metadata": {
        "colab": {
          "base_uri": "https://localhost:8080/"
        },
        "id": "0NolXUCxBWXa",
        "outputId": "b301c93a-83a5-4d80-b9bd-4e375e2e230e"
      },
      "execution_count": null,
      "outputs": [
        {
          "output_type": "execute_result",
          "data": {
            "text/plain": [
              "torch.Size([199816])"
            ]
          },
          "metadata": {},
          "execution_count": 24
        }
      ]
    },
    {
      "cell_type": "code",
      "source": [
        "for i in embedding_decimal_value:\n",
        "    if i in t_embedding_decimal_value:\n",
        "        print(i)"
      ],
      "metadata": {
        "colab": {
          "base_uri": "https://localhost:8080/"
        },
        "id": "pZ0hLCtAyBve",
        "outputId": "b8612dad-d57c-4b27-9b0c-319be3839f7f"
      },
      "execution_count": null,
      "outputs": [
        {
          "output_type": "stream",
          "name": "stdout",
          "text": [
            "1.3661598262856577e+19\n",
            "1.245006488498159e+19\n",
            "1.2415720819075086e+19\n",
            "1.2450060486935079e+19\n",
            "1.2415720819075086e+19\n",
            "1.358497419090752e+19\n",
            "1.2415720819075086e+19\n",
            "1.245006488498159e+19\n",
            "1.2415720819075086e+19\n",
            "1.3584971990810522e+19\n",
            "1.2415720819075086e+19\n",
            "1.3085137510553154e+19\n",
            "1.245006488498159e+19\n",
            "1.2415720819075086e+19\n",
            "1.3584974259694105e+19\n",
            "1.2415720819075086e+19\n",
            "1.3584974259656094e+19\n",
            "1.2415720819075086e+19\n",
            "1.8273284281283965e+19\n",
            "1.2415720819075086e+19\n",
            "1.2449497537115875e+19\n",
            "1.3084012160400028e+19\n",
            "1.3584971990810522e+19\n",
            "1.2415720819075086e+19\n",
            "1.3584974259660288e+19\n",
            "1.2415720819075086e+19\n",
            "1.8273257893004898e+19\n",
            "1.3584974190974628e+19\n",
            "1.2415720819075086e+19\n",
            "1.3584971991951372e+19\n",
            "1.245006488498159e+19\n",
            "1.2415720819075086e+19\n",
            "1.2415720819075086e+19\n",
            "1.36615806706705e+19\n",
            "1.3657094663229207e+19\n",
            "4.4337226253006884e+18\n",
            "1.366159826285448e+19\n",
            "4.4334411503213563e+18\n",
            "1.3661598262856577e+19\n",
            "1.3085137510551056e+19\n",
            "1.2415720819075086e+19\n",
            "1.3661571874577478e+19\n",
            "1.3584971990810522e+19\n",
            "1.3584971991884263e+19\n",
            "1.308936018495753e+19\n",
            "1.245006488498159e+19\n",
            "1.3661580670670533e+19\n",
            "1.3661598262856577e+19\n",
            "1.3584974259656094e+19\n",
            "1.2415720819075086e+19\n",
            "1.245006488498159e+19\n",
            "1.2415720819075086e+19\n",
            "1.245006488498159e+19\n",
            "1.2432050486203675e+19\n",
            "1.2415720819075086e+19\n",
            "1.3584971990810522e+19\n",
            "1.3661535590693237e+19\n",
            "1.2415720819075086e+19\n",
            "1.2415720819075086e+19\n",
            "3.7852042789567155e+18\n",
            "3.8617654726246354e+18\n",
            "1.245006488498159e+19\n",
            "1.3661535590693237e+19\n",
            "1.2450064884713157e+19\n",
            "1.3584971991951372e+19\n",
            "1.2415720819075086e+19\n",
            "1.358497199087763e+19\n",
            "1.2415720819075086e+19\n",
            "1.245006488498159e+19\n",
            "1.2415720819075086e+19\n",
            "1.3584971990810522e+19\n",
            "1.2415720819075086e+19\n",
            "1.8273257893004898e+19\n",
            "1.3584971990810522e+19\n",
            "1.2415720819075086e+19\n",
            "1.3584692784679383e+19\n",
            "1.2415720819075086e+19\n",
            "1.2432050486203675e+19\n",
            "1.2415720819075086e+19\n",
            "1.245006488498159e+19\n",
            "1.3661598262856577e+19\n",
            "1.245006488498159e+19\n",
            "1.2415720819075086e+19\n",
            "1.366159826285448e+19\n",
            "4.433441150321356e+18\n",
            "3.793930003368963e+18\n",
            "4.438226225999703e+18\n",
            "1.3584971990810522e+19\n",
            "1.2415720819075086e+19\n",
            "1.3085137510551056e+19\n",
            "1.2415720539902208e+19\n",
            "1.2415720819075086e+19\n",
            "1.8273284281283965e+19\n",
            "1.358497425966055e+19\n",
            "1.2415720819075086e+19\n",
            "1.245006488498159e+19\n",
            "1.2415720819075086e+19\n",
            "1.2415720819075086e+19\n",
            "1.245006488498159e+19\n",
            "1.2415720819075086e+19\n",
            "1.2415720819075086e+19\n",
            "1.245006488498159e+19\n",
            "1.2415720819075086e+19\n",
            "1.3661598262856577e+19\n",
            "1.3661598262856577e+19\n",
            "1.2415720819075086e+19\n",
            "1.245006488498159e+19\n",
            "1.2415720819075086e+19\n",
            "1.3085137510551056e+19\n",
            "1.2415720819075086e+19\n",
            "1.245006488498159e+19\n",
            "1.2415720819075086e+19\n",
            "1.245006488498159e+19\n",
            "1.2415720819075086e+19\n",
            "1.3661598262856577e+19\n",
            "1.3584971990810522e+19\n",
            "1.2415720819075086e+19\n",
            "1.8273257893004898e+19\n",
            "1.3584971990810522e+19\n",
            "1.2415720819075086e+19\n",
            "1.3584974259656094e+19\n",
            "1.2415720819075086e+19\n",
            "1.3661598262856577e+19\n",
            "1.245006488498159e+19\n",
            "1.2415720819075086e+19\n",
            "1.245006488498159e+19\n",
            "1.2415720819075086e+19\n",
            "1.2449497537115875e+19\n",
            "1.2415720819075086e+19\n",
            "1.3661598262856577e+19\n",
            "1.245006488498159e+19\n",
            "1.2415720819075086e+19\n",
            "1.2449497537115875e+19\n",
            "1.2415720819075086e+19\n",
            "1.2450064884713155e+19\n",
            "1.2415720819075086e+19\n",
            "1.245006488498159e+19\n",
            "1.2415720819075086e+19\n",
            "1.8273284281283965e+19\n",
            "1.2432050486203675e+19\n",
            "1.2415720819075086e+19\n",
            "1.3584974258586808e+19\n",
            "1.2415720819075086e+19\n",
            "1.358497199087763e+19\n",
            "1.2415720819075086e+19\n",
            "1.3584974259656094e+19\n",
            "1.2415720819075086e+19\n",
            "1.3584692784612274e+19\n",
            "1.2415720819075086e+19\n",
            "1.358497199087763e+19\n",
            "1.2415720819075086e+19\n",
            "1.3584974258620363e+19\n",
            "1.245006488498159e+19\n",
            "1.2415720819075086e+19\n",
            "1.358497199087763e+19\n",
            "1.2415720819075086e+19\n",
            "1.245006488498159e+19\n",
            "1.2415720819075086e+19\n",
            "1.245006488498159e+19\n",
            "1.2415720819075086e+19\n",
            "1.2415720819075086e+19\n"
          ]
        }
      ]
    },
    {
      "cell_type": "code",
      "source": [
        "#t_embedding_decimal_value\n",
        "df = pd.DataFrame(t_embedding_decimal_value)\n",
        "df.to_csv('t_embedding_decimal_value.csv', index=False)"
      ],
      "metadata": {
        "id": "UCcg9QQNCysE"
      },
      "execution_count": null,
      "outputs": []
    },
    {
      "cell_type": "code",
      "source": [
        "current_directory = os.getcwd()\n",
        "print(\"Current Directory:\", current_directory)"
      ],
      "metadata": {
        "id": "We9GqYEAkfPR",
        "outputId": "80280221-f242-4181-f799-3b754e8cad87",
        "colab": {
          "base_uri": "https://localhost:8080/"
        }
      },
      "execution_count": null,
      "outputs": [
        {
          "output_type": "stream",
          "name": "stdout",
          "text": [
            "Current Directory: /content\n"
          ]
        }
      ]
    },
    {
      "cell_type": "code",
      "source": [
        "ranges_list = []\n",
        "\n",
        "for i in embedding_decimal_value:\n",
        "    tempo_array = []\n",
        "    for j in range(len(t_embedding_decimal_value)):\n",
        "        if t_embedding_decimal_value[j] == i:\n",
        "            tempo_array.append([j + 45000, j + 45000 + 338])\n",
        "    ranges_list.append(tempo_array)\n",
        "    break\n",
        "\n",
        "print(ranges_list)"
      ],
      "metadata": {
        "colab": {
          "base_uri": "https://localhost:8080/"
        },
        "id": "1-Mul02uCd8Q",
        "outputId": "f2027cab-e7ae-495e-ae3d-59508e15e849"
      },
      "execution_count": null,
      "outputs": [
        {
          "output_type": "stream",
          "name": "stdout",
          "text": [
            "[[[45000, 45338], [45012, 45350], [45013, 45351], [45022, 45360], [45023, 45361], [45051, 45389], [46177, 46515], [46179, 46517], [46180, 46518], [46181, 46519], [46189, 46527], [46195, 46533], [46226, 46564], [46275, 46613], [47304, 47642], [47319, 47657], [47327, 47665], [47328, 47666], [47333, 47671], [47347, 47685], [47361, 47699], [48625, 48963], [48630, 48968], [48631, 48969], [48654, 48992], [48659, 48997], [51468, 51806], [51469, 51807], [51470, 51808], [51471, 51809], [51472, 51810], [51473, 51811], [51474, 51812], [51477, 51815], [51478, 51816], [51479, 51817], [51480, 51818], [51481, 51819], [51482, 51820], [51483, 51821], [51485, 51823], [51491, 51829], [51494, 51832], [51495, 51833], [51683, 52021], [51684, 52022], [51687, 52025], [51688, 52026], [51689, 52027], [51697, 52035], [51699, 52037], [51701, 52039], [51708, 52046], [51710, 52048], [51711, 52049], [51712, 52050], [51713, 52051], [51720, 52058], [51769, 52107], [52474, 52812], [52495, 52833], [52723, 53061], [52725, 53063], [52734, 53072], [52735, 53073], [52751, 53089], [52752, 53090], [52892, 53230], [52894, 53232], [52961, 53299], [53800, 54138], [55038, 55376], [55296, 55634], [55297, 55635], [55308, 55646], [55309, 55647], [55317, 55655], [55320, 55658], [55321, 55659], [55322, 55660], [55349, 55687], [55350, 55688], [55354, 55692], [55374, 55712], [55375, 55713], [55376, 55714], [55377, 55715], [55574, 55912], [56031, 56369], [56034, 56372], [56052, 56390], [56053, 56391], [56054, 56392], [56055, 56393], [56056, 56394], [56057, 56395], [56058, 56396], [56061, 56399], [56113, 56451], [57282, 57620], [57409, 57747], [57414, 57752], [60036, 60374], [60037, 60375], [60038, 60376], [60039, 60377], [60041, 60379], [60050, 60388], [60056, 60394], [60057, 60395], [60058, 60396], [60059, 60397], [60060, 60398], [60062, 60400], [60063, 60401], [60064, 60402], [60066, 60404], [60113, 60451], [60118, 60456], [62280, 62618], [62290, 62628], [62291, 62629], [62293, 62631], [62536, 62874], [62548, 62886], [62549, 62887], [62554, 62892], [62555, 62893], [62559, 62897], [62560, 62898], [62604, 62942], [62605, 62943], [62606, 62944], [62616, 62954], [62617, 62955], [66401, 66739], [66403, 66741], [66417, 66755], [66423, 66761], [66432, 66770], [66582, 66920], [66662, 67000], [66663, 67001], [67853, 68191], [67862, 68200], [67909, 68247], [72360, 72698], [72363, 72701], [72365, 72703], [72366, 72704], [72367, 72705], [72370, 72708], [73338, 73676], [74383, 74721], [74385, 74723], [74440, 74778], [74441, 74779], [74443, 74781], [75940, 76278], [75941, 76279], [75942, 76280], [75943, 76281], [76485, 76823], [76501, 76839], [76512, 76850], [76769, 77107], [76770, 77108], [78415, 78753], [78417, 78755], [78418, 78756], [78419, 78757], [78555, 78893], [78600, 78938], [78601, 78939], [78605, 78943], [78631, 78969], [78632, 78970], [78633, 78971], [78638, 78976], [78639, 78977], [78640, 78978], [78642, 78980], [78644, 78982], [78652, 78990], [78655, 78993], [78746, 79084], [78752, 79090], [78838, 79176], [80845, 81183], [81044, 81382], [81045, 81383], [81048, 81386], [81055, 81393], [81056, 81394], [81057, 81395], [81108, 81446], [81162, 81500], [81163, 81501], [81212, 81550], [81213, 81551], [81214, 81552], [81215, 81553], [81218, 81556], [83520, 83858], [83521, 83859], [83522, 83860], [83524, 83862], [83529, 83867], [83748, 84086], [83749, 84087], [83750, 84088], [83751, 84089], [83754, 84092], [83765, 84103], [83782, 84120], [83784, 84122], [83786, 84124], [83787, 84125], [83793, 84131], [83795, 84133], [83796, 84134], [83797, 84135], [85771, 86109], [85776, 86114], [85777, 86115], [85780, 86118], [85789, 86127], [85791, 86129], [85792, 86130], [85794, 86132], [85802, 86140], [85804, 86142], [85899, 86237], [85901, 86239], [85904, 86242], [85908, 86246], [85923, 86261], [85968, 86306], [87284, 87622], [87358, 87696], [87370, 87708], [87371, 87709], [87374, 87712], [87380, 87718], [87388, 87726], [87395, 87733], [87400, 87738], [87433, 87771], [87519, 87857], [87573, 87911], [87574, 87912], [87576, 87914], [87577, 87915], [87580, 87918], [88503, 88841], [88504, 88842], [88510, 88848], [88808, 89146], [88809, 89147], [88838, 89176], [92435, 92773], [92439, 92777], [92440, 92778], [92441, 92779], [92442, 92780], [92446, 92784], [92451, 92789], [92452, 92790], [92455, 92793], [92642, 92980], [92653, 92991], [92657, 92995], [92659, 92997], [92679, 93017], [92680, 93018], [92684, 93022], [92685, 93023], [92690, 93028], [92789, 93127], [92793, 93131], [92795, 93133], [92819, 93157], [93663, 94001], [93861, 94199], [93874, 94212], [93877, 94215], [93878, 94216], [93881, 94219], [93885, 94223], [93887, 94225], [93890, 94228], [93893, 94231], [93917, 94255], [93920, 94258], [93960, 94298], [94085, 94423], [94098, 94436], [94101, 94439], [94102, 94440], [94103, 94441], [94204, 94542], [95565, 95903], [95674, 96012], [95782, 96120], [95788, 96126], [95789, 96127], [95792, 96130], [95798, 96136], [95799, 96137], [95809, 96147], [95810, 96148], [95811, 96149], [95813, 96151], [95819, 96157], [95828, 96166], [95977, 96315], [96554, 96892], [96652, 96990], [96663, 97001], [96666, 97004], [96670, 97008], [96676, 97014], [96696, 97034], [96845, 97183], [96855, 97193], [96859, 97197], [96862, 97200], [96863, 97201], [96866, 97204], [98701, 99039], [98712, 99050], [98715, 99053], [98719, 99057], [98722, 99060], [98723, 99061], [98737, 99075], [98740, 99078], [98754, 99092], [98770, 99108], [98832, 99170], [98834, 99172], [98842, 99180], [98851, 99189], [100185, 100523], [100187, 100525], [100188, 100526], [100189, 100527], [100190, 100528], [100194, 100532], [100195, 100533], [100197, 100535], [100198, 100536], [100200, 100538], [100201, 100539], [100205, 100543], [100207, 100545], [100210, 100548], [100211, 100549], [100231, 100569], [100234, 100572], [100252, 100590], [100317, 100655], [100321, 100659], [100343, 100681], [103870, 104208], [103882, 104220], [103886, 104224], [103887, 104225], [103891, 104229], [103892, 104230], [103896, 104234], [103909, 104247], [103910, 104248], [103931, 104269], [103956, 104294], [103958, 104296], [103961, 104299], [103965, 104303], [103986, 104324], [104009, 104347], [104054, 104392], [104062, 104400], [104064, 104402], [104069, 104407], [107792, 108130], [108002, 108340], [108004, 108342], [108005, 108343], [108008, 108346], [108015, 108353], [108365, 108703], [108595, 108933], [108605, 108943], [108606, 108944], [108609, 108947], [108615, 108953], [108616, 108954], [108625, 108963], [108660, 108998], [108662, 109000], [108663, 109001], [108664, 109002], [108717, 109055], [108718, 109056], [108719, 109057], [108720, 109058], [108721, 109059], [108724, 109062], [110418, 110756], [110593, 110931], [110650, 110988], [110656, 110994], [110671, 111009], [110672, 111010], [110675, 111013], [110687, 111025], [110689, 111027], [110690, 111028], [110691, 111029], [110698, 111036], [110702, 111040], [112117, 112455], [112135, 112473], [112275, 112613], [112319, 112657], [112332, 112670], [112338, 112676], [112345, 112683], [112350, 112688], [112353, 112691], [112354, 112692], [112365, 112703], [112368, 112706], [112369, 112707], [112371, 112709], [112463, 112801], [112480, 112818], [114042, 114380], [114079, 114417], [114211, 114549], [114226, 114564], [114236, 114574], [114241, 114579], [114289, 114627], [114296, 114634], [114313, 114651], [114316, 114654], [114318, 114656], [114322, 114660], [114323, 114661], [114325, 114663], [114330, 114668], [114342, 114680], [114348, 114686], [114351, 114689], [114366, 114704], [114453, 114791], [114475, 114813], [114488, 114826], [114659, 114997], [114662, 115000], [114663, 115001], [114675, 115013], [114834, 115172], [117547, 117885], [117754, 118092], [117757, 118095], [117758, 118096], [117759, 118097], [117761, 118099], [117766, 118104], [117768, 118106], [117773, 118111], [117815, 118153], [117870, 118208], [117871, 118209], [117874, 118212], [120852, 121190], [120854, 121192], [120875, 121213], [121063, 121401], [121071, 121409], [121072, 121410], [121079, 121417], [121084, 121422], [121088, 121426], [121089, 121427], [121092, 121430], [121093, 121431], [121094, 121432], [121095, 121433], [121096, 121434], [121395, 121733], [121429, 121767], [121439, 121777], [121444, 121782], [126361, 126699], [126362, 126700], [126363, 126701], [126365, 126703], [126369, 126707], [126504, 126842], [126550, 126888], [126553, 126891], [126555, 126893], [126557, 126895], [126558, 126896], [126569, 126907], [126570, 126908], [126571, 126909], [126575, 126913], [126577, 126915], [126579, 126917], [126580, 126918], [126581, 126919], [126582, 126920], [126583, 126921], [126584, 126922], [126630, 126968], [126631, 126969], [126635, 126973], [126724, 127062], [126725, 127063], [126726, 127064], [126727, 127065], [126729, 127067], [126730, 127068], [126733, 127071], [126734, 127072], [126735, 127073], [126736, 127074], [126737, 127075], [126738, 127076], [126739, 127077], [126740, 127078], [126741, 127079], [126742, 127080], [126743, 127081], [126744, 127082], [126745, 127083], [127095, 127433], [127110, 127448], [127896, 128234], [127897, 128235], [127898, 128236], [127900, 128238], [127901, 128239], [127902, 128240], [127904, 128242], [127905, 128243], [127907, 128245], [127909, 128247], [127912, 128250], [127916, 128254], [128009, 128347], [128052, 128390], [128060, 128398], [128061, 128399], [128063, 128401], [128065, 128403], [130413, 130751], [130614, 130952], [130621, 130959], [130626, 130964], [130644, 130982], [130645, 130983], [130649, 130987], [130651, 130989], [130656, 130994], [130657, 130995], [130663, 131001], [130667, 131005], [130668, 131006], [131522, 131860], [131526, 131864], [132335, 132673], [132549, 132887], [132550, 132888], [132551, 132889], [132552, 132890], [132555, 132893], [132558, 132896], [132559, 132897], [132561, 132899], [132571, 132909], [132580, 132918], [132581, 132919], [132582, 132920], [132586, 132924], [132587, 132925], [132590, 132928], [132591, 132929], [132592, 132930], [132593, 132931], [132600, 132938], [132601, 132939], [132602, 132940], [132603, 132941], [132604, 132942], [132958, 133296], [132961, 133299], [132962, 133300], [132963, 133301], [135488, 135826], [135542, 135880], [135543, 135881], [135544, 135882], [135548, 135886], [135552, 135890], [135555, 135893], [135556, 135894], [135557, 135895], [135564, 135902], [135570, 135908], [135580, 135918], [135581, 135919], [135582, 135920], [135583, 135921], [135584, 135922], [135585, 135923], [135586, 135924], [135594, 135932], [135595, 135933], [136876, 137214], [136882, 137220], [136883, 137221], [136884, 137222], [136885, 137223], [136886, 137224], [136887, 137225], [136950, 137288], [141100, 141438], [141149, 141487], [141150, 141488], [141152, 141490], [141153, 141491], [141258, 141596], [141381, 141719], [141382, 141720], [141390, 141728], [141534, 141872], [141535, 141873], [141703, 142041], [141704, 142042], [141705, 142043], [141716, 142054], [141828, 142166], [143000, 143338], [143001, 143339], [143002, 143340], [144946, 145284], [145490, 145828], [146923, 147261], [147952, 148290], [147954, 148292], [147955, 148293], [147957, 148295], [147958, 148296], [147959, 148297], [147962, 148300], [149964, 150302], [149976, 150314], [149977, 150315], [149980, 150318], [149981, 150319], [150057, 150395], [150059, 150397], [150916, 151254], [150917, 151255], [150918, 151256], [150919, 151257], [150921, 151259], [150922, 151260], [150923, 151261], [150985, 151323], [150997, 151335], [150998, 151336], [152273, 152611], [152354, 152692], [152355, 152693], [153265, 153603], [153858, 154196], [153859, 154197], [153872, 154210], [153877, 154215], [153878, 154216], [153891, 154229], [153894, 154232], [153895, 154233], [153896, 154234], [153897, 154235], [153908, 154246], [153909, 154247], [153910, 154248], [155078, 155416], [155091, 155429], [155092, 155430], [155093, 155431], [155095, 155433], [155097, 155435], [155098, 155436], [155101, 155439], [155111, 155449], [156386, 156724], [156388, 156726], [156390, 156728], [156391, 156729], [156392, 156730], [156408, 156746], [157352, 157690], [157364, 157702], [157365, 157703], [157370, 157708], [157371, 157709], [157372, 157710], [158451, 158789], [158502, 158840], [158554, 158892], [158600, 158938], [158645, 158983], [159303, 159641], [159315, 159653], [159316, 159654], [159318, 159656], [159319, 159657], [159320, 159658], [159321, 159659], [159322, 159660], [159327, 159665], [159328, 159666], [159329, 159667], [159331, 159669], [159360, 159698], [159387, 159725], [160617, 160955], [160618, 160956], [160625, 160963], [160626, 160964], [160629, 160967], [160630, 160968], [160631, 160969], [160637, 160975], [160638, 160976], [160639, 160977], [160640, 160978], [160641, 160979], [160642, 160980], [160698, 161036], [161412, 161750], [161413, 161751], [161415, 161753], [161513, 161851], [161627, 161965], [163014, 163352], [163017, 163355], [163018, 163356], [163019, 163357], [163020, 163358], [163021, 163359], [163022, 163360], [163023, 163361], [163025, 163363], [163029, 163367], [163031, 163369], [164308, 164646], [164315, 164653], [164318, 164656], [164319, 164657], [164322, 164660], [164323, 164661], [164324, 164662], [164326, 164664], [164328, 164666], [164331, 164669], [164360, 164698], [165515, 165853], [165516, 165854], [165523, 165861], [165524, 165862], [165531, 165869], [165570, 165908], [165753, 166091], [165754, 166092], [165755, 166093], [165756, 166094], [165760, 166098], [165762, 166100], [165763, 166101], [165764, 166102], [165765, 166103], [165767, 166105], [165769, 166107], [165770, 166108], [165771, 166109], [165774, 166112], [165835, 166173], [166190, 166528], [166191, 166529], [166192, 166530], [166193, 166531], [166474, 166812], [166476, 166814], [166486, 166824], [166488, 166826], [166500, 166838], [166501, 166839], [167981, 168319], [167982, 168320], [167985, 168323], [167986, 168324], [167987, 168325], [167991, 168329], [167994, 168332], [167996, 168334], [167997, 168335], [167998, 168336], [167999, 168337], [168000, 168338], [168008, 168346], [168010, 168348], [168018, 168356], [168174, 168512], [168175, 168513], [168176, 168514], [168177, 168515], [168178, 168516], [168179, 168517], [168180, 168518], [168181, 168519], [168182, 168520], [168184, 168522], [168185, 168523], [168186, 168524], [168187, 168525], [168188, 168526], [168189, 168527], [168190, 168528], [168194, 168532], [168198, 168536], [168199, 168537], [168200, 168538], [168201, 168539], [168858, 169196], [168860, 169198], [168864, 169202], [168866, 169204], [168868, 169206], [168869, 169207], [168870, 169208], [168871, 169209], [168872, 169210], [168873, 169211], [168874, 169212], [168875, 169213], [168876, 169214], [168877, 169215], [168880, 169218], [168881, 169219], [168937, 169275], [169578, 169916], [169594, 169932], [169609, 169947], [169630, 169968], [169631, 169969], [169671, 170009], [169672, 170010], [170142, 170480], [170146, 170484], [170149, 170487], [170152, 170490], [170153, 170491], [170154, 170492], [170155, 170493], [170156, 170494], [170157, 170495], [170158, 170496], [170162, 170500], [170163, 170501], [170165, 170503], [170166, 170504], [170236, 170574], [170237, 170575], [170338, 170676], [170342, 170680], [170343, 170681], [170344, 170682], [170345, 170683], [170346, 170684], [170347, 170685], [170348, 170686], [170349, 170687], [170350, 170688], [170351, 170689], [170353, 170691], [170355, 170693], [170356, 170694], [170357, 170695], [170359, 170697], [170493, 170831], [170494, 170832], [170502, 170840], [171321, 171659], [171322, 171660], [171326, 171664], [171361, 171699], [171401, 171739], [172014, 172352], [172015, 172353], [172016, 172354], [172017, 172355], [172018, 172356], [172020, 172358], [172023, 172361], [172024, 172362], [172025, 172363], [172026, 172364], [172027, 172365], [172028, 172366], [172029, 172367], [172031, 172369], [172035, 172373], [172038, 172376], [172068, 172406], [172094, 172432], [172201, 172539], [172202, 172540], [172203, 172541], [172204, 172542], [172205, 172543], [172206, 172544], [172208, 172546], [172213, 172551], [172214, 172552], [172224, 172562], [172228, 172566], [172411, 172749], [172423, 172761], [172424, 172762], [172427, 172765], [172429, 172767], [172504, 172842], [172922, 173260], [172938, 173276], [172939, 173277], [172948, 173286], [172950, 173288], [172957, 173295], [172976, 173314], [173003, 173341], [173018, 173356], [173187, 173525], [173188, 173526], [173189, 173527], [173190, 173528], [173191, 173529], [173192, 173530], [173193, 173531], [173422, 173760], [173434, 173772], [173435, 173773], [173436, 173774], [173441, 173779], [173470, 173808], [173471, 173809], [173602, 173940], [173633, 173971], [173637, 173975], [173639, 173977], [173640, 173978], [173641, 173979], [173787, 174125], [173788, 174126], [173789, 174127], [173791, 174129], [173794, 174132], [173801, 174139], [173952, 174290], [173967, 174305], [173997, 174335], [174094, 174432], [174754, 175092], [174967, 175305], [174968, 175306], [174969, 175307], [174970, 175308], [174972, 175310], [174973, 175311], [175038, 175376], [175157, 175495], [175159, 175497], [175160, 175498], [175161, 175499], [175162, 175500], [175166, 175504], [175167, 175505], [175168, 175506], [175192, 175530], [175356, 175694], [175360, 175698], [175362, 175700], [176640, 176978], [176641, 176979], [176642, 176980], [176882, 177220], [176884, 177222], [176885, 177223], [176886, 177224], [176888, 177226], [176893, 177231], [176899, 177237], [176900, 177238], [176901, 177239], [176902, 177240], [176909, 177247], [176936, 177274], [176937, 177275], [178486, 178824], [178487, 178825], [178488, 178826], [178489, 178827], [178490, 178828], [178491, 178829], [178493, 178831], [178494, 178832], [178497, 178835], [178498, 178836], [178499, 178837], [178500, 178838], [178501, 178839], [178518, 178856], [178569, 178907], [178651, 178989], [178670, 179008], [178678, 179016], [178680, 179018], [178687, 179025], [178689, 179027], [178705, 179043], [178730, 179068], [178732, 179070], [178745, 179083], [178755, 179093], [179690, 180028], [181014, 181352], [181015, 181353], [181017, 181355], [181019, 181357], [181020, 181358], [181021, 181359], [181023, 181361], [181024, 181362], [181028, 181366], [181029, 181367], [181030, 181368], [181031, 181369], [181032, 181370], [181033, 181371], [181034, 181372], [181035, 181373], [181039, 181377], [181040, 181378], [181041, 181379], [181074, 181412], [181075, 181413], [181098, 181436], [182074, 182412], [182075, 182413], [182076, 182414], [182084, 182422], [182085, 182423], [182086, 182424], [182087, 182425], [182088, 182426], [182089, 182427], [182090, 182428], [182091, 182429], [182094, 182432], [182096, 182434], [182097, 182435], [182099, 182437], [182155, 182493], [182156, 182494], [182826, 183164], [182827, 183165], [182828, 183166], [183731, 184069], [183732, 184070], [183733, 184071], [183734, 184072], [183735, 184073], [183742, 184080], [183744, 184082], [183745, 184083], [183746, 184084], [183747, 184085], [183748, 184086], [183749, 184087], [183750, 184088], [183751, 184089], [183753, 184091], [183754, 184092], [183756, 184094], [183757, 184095], [183805, 184143], [183915, 184253], [183916, 184254], [183930, 184268], [184183, 184521], [184186, 184524], [184211, 184549], [184216, 184554], [184217, 184555], [186071, 186409], [186072, 186410], [186074, 186412], [186075, 186413], [186076, 186414], [186077, 186415], [186087, 186425], [186088, 186426], [186089, 186427], [186090, 186428], [186091, 186429], [186092, 186430], [186093, 186431], [186097, 186435], [186098, 186436], [186637, 186975], [187849, 188187], [187850, 188188], [187851, 188189], [188084, 188422], [188085, 188423], [188086, 188424], [188087, 188425], [188088, 188426], [188089, 188427], [188091, 188429], [188093, 188431], [188095, 188433], [188096, 188434], [188097, 188435], [188098, 188436], [188099, 188437], [188100, 188438], [188101, 188439], [188108, 188446], [188110, 188448], [188269, 188607], [188271, 188609], [188272, 188610], [188455, 188793], [188464, 188802], [188508, 188846], [188509, 188847], [188522, 188860], [188609, 188947], [188610, 188948], [188611, 188949], [188612, 188950], [188613, 188951], [188614, 188952], [188763, 189101], [188764, 189102], [188765, 189103], [189003, 189341], [189005, 189343], [189007, 189345], [189008, 189346], [189009, 189347], [189010, 189348], [189013, 189351], [189014, 189352], [189017, 189355], [189018, 189356], [189019, 189357], [189020, 189358], [189021, 189359], [189022, 189360], [189023, 189361], [189025, 189363], [189030, 189368], [189088, 189426], [189671, 190009], [189672, 190010], [189673, 190011], [189674, 190012], [189683, 190021], [189684, 190022], [189685, 190023], [189686, 190024], [189688, 190026], [189689, 190027], [189690, 190028], [190436, 190774], [190437, 190775], [190438, 190776], [190439, 190777], [190728, 191066], [190977, 191315], [190989, 191327], [190990, 191328], [190991, 191329], [190993, 191331], [190994, 191332], [190995, 191333], [190996, 191334], [191003, 191341], [191005, 191343], [191007, 191345], [191009, 191347], [191011, 191349], [191012, 191350], [191013, 191351], [191016, 191354], [191018, 191356], [191254, 191592], [191255, 191593], [192031, 192369], [192174, 192512], [192214, 192552], [192227, 192565], [192230, 192568], [192231, 192569], [192232, 192570], [192233, 192571], [192234, 192572], [192245, 192583], [192250, 192588], [192251, 192589], [192253, 192591], [192254, 192592], [192255, 192593], [192256, 192594], [192258, 192596], [192261, 192599], [192494, 192832], [192495, 192833], [192497, 192835], [192499, 192837], [193002, 193340], [193853, 194191], [193854, 194192], [193857, 194195], [193858, 194196], [193859, 194197], [193860, 194198], [193861, 194199], [193871, 194209], [193872, 194210], [193873, 194211], [193877, 194215], [193879, 194217], [193881, 194219], [193884, 194222], [193920, 194258], [193939, 194277], [193969, 194307], [194277, 194615], [194278, 194616], [194279, 194617], [194280, 194618], [194281, 194619], [194282, 194620], [194518, 194856], [194520, 194858], [194522, 194860], [194523, 194861], [194524, 194862], [194525, 194863], [194526, 194864], [194527, 194865], [194537, 194875], [194538, 194876], [194539, 194877], [194540, 194878], [194543, 194881], [194547, 194885], [194707, 195045], [194721, 195059], [194722, 195060], [194723, 195061], [196299, 196637], [196367, 196705], [196398, 196736], [196402, 196740], [196410, 196748], [196417, 196755], [196420, 196758], [196437, 196775], [196468, 196806], [196486, 196824], [196487, 196825], [196491, 196829], [196553, 196891], [196567, 196905], [196625, 196963], [196640, 196978], [196649, 196987], [196676, 197014], [196677, 197015], [196697, 197035], [196698, 197036], [196700, 197038], [196701, 197039], [196702, 197040], [196703, 197041], [196705, 197043], [196745, 197083], [197106, 197444], [198000, 198338], [198002, 198340], [198004, 198342], [198005, 198343], [198006, 198344], [198013, 198351], [198014, 198352], [198015, 198353], [198017, 198355], [198018, 198356], [198019, 198357], [198021, 198359], [198022, 198360], [198023, 198361], [198030, 198368], [198244, 198582], [198245, 198583], [198700, 199038], [198736, 199074], [198739, 199077], [198743, 199081], [198772, 199110], [198796, 199134], [198815, 199153], [198832, 199170], [198861, 199199], [198882, 199220], [198893, 199231], [198939, 199277], [199016, 199354], [199023, 199361], [199032, 199370], [199033, 199371], [199034, 199372], [199035, 199373], [199036, 199374], [199037, 199375], [199038, 199376], [199039, 199377], [199040, 199378], [199041, 199379], [199042, 199380], [199043, 199381], [199044, 199382], [199241, 199579], [199252, 199590], [200209, 200547], [200210, 200548], [200211, 200549], [200218, 200556], [200220, 200558], [200221, 200559], [200222, 200560], [200223, 200561], [200224, 200562], [200225, 200563], [200226, 200564], [200228, 200566], [200229, 200567], [200230, 200568], [200233, 200571], [200289, 200627], [200290, 200628], [200485, 200823], [201135, 201473], [201432, 201770], [201448, 201786], [201491, 201829], [201492, 201830], [201496, 201834], [201497, 201835], [201498, 201836], [201499, 201837], [201500, 201838], [201501, 201839], [201502, 201840], [201503, 201841], [201504, 201842], [201506, 201844], [201508, 201846], [202442, 202780], [202443, 202781], [202444, 202782], [202447, 202785], [202448, 202786], [202449, 202787], [202450, 202788], [202451, 202789], [202452, 202790], [202453, 202791], [202456, 202794], [202461, 202799], [202462, 202800], [202463, 202801], [202464, 202802], [202467, 202805], [202471, 202809], [202702, 203040], [203279, 203617], [204183, 204521], [204420, 204758], [204421, 204759], [204422, 204760], [204430, 204768], [204433, 204771], [204434, 204772], [204435, 204773], [204436, 204774], [204437, 204775], [204438, 204776], [204439, 204777], [204440, 204778], [204441, 204779], [204442, 204780], [204443, 204781], [204444, 204782], [204500, 204838], [204501, 204839], [204502, 204840], [204891, 205229], [205433, 205771], [206002, 206340], [206632, 206970], [206820, 207158], [206895, 207233], [206896, 207234], [206897, 207235], [206898, 207236], [206899, 207237], [206901, 207239], [206902, 207240], [206903, 207241], [206905, 207243], [206906, 207244], [206907, 207245], [206908, 207246], [206909, 207247], [206910, 207248], [206911, 207249], [206913, 207251], [206917, 207255], [206918, 207256], [206919, 207257], [206951, 207289], [206968, 207306], [208385, 208723], [208387, 208725], [208394, 208732], [208402, 208740], [211332, 211670], [211337, 211675], [211343, 211681], [211345, 211683], [211346, 211684], [211347, 211685], [211348, 211686], [211354, 211692], [211355, 211693], [211356, 211694], [211358, 211696], [211387, 211725], [211412, 211750], [211413, 211751], [211509, 211847], [211528, 211866], [211529, 211867], [211530, 211868], [211720, 212058], [211721, 212059], [211722, 212060], [211728, 212066], [211731, 212069], [211732, 212070], [211733, 212071], [211734, 212072], [211735, 212073], [211736, 212074], [211744, 212082], [211746, 212084], [211794, 212132], [212613, 212951], [212614, 212952], [212615, 212953], [212616, 212954], [212644, 212982], [212645, 212983], [212646, 212984], [212648, 212986], [212649, 212987], [213360, 213698], [214543, 214881], [214544, 214882], [214545, 214883], [214546, 214884], [214547, 214885], [214549, 214887], [214559, 214897], [214560, 214898], [214561, 214899], [214562, 214900], [214563, 214901], [214564, 214902], [214565, 214903], [214569, 214907], [214604, 214942], [214619, 214957], [214626, 214964], [216684, 217022], [216689, 217027], [216693, 217031], [216694, 217032], [216696, 217034], [216697, 217035], [216698, 217036], [216699, 217037], [216704, 217042], [216705, 217043], [216707, 217045], [216708, 217046], [216738, 217076], [216763, 217101], [218384, 218722], [218401, 218739], [218589, 218927], [218653, 218991], [218667, 219005], [218668, 219006], [218669, 219007], [218670, 219008], [218672, 219010], [218673, 219011], [218678, 219016], [219992, 220330], [222498, 222836], [222499, 222837], [222500, 222838], [222501, 222839], [222510, 222848], [222511, 222849], [222512, 222850], [222513, 222851], [222515, 222853], [222516, 222854], [222517, 222855], [222518, 222856], [222523, 222861], [222553, 222891], [222580, 222918], [222594, 222932], [222595, 222933], [223044, 223382], [223056, 223394], [223059, 223397], [223139, 223477], [223570, 223908], [223574, 223912], [223575, 223913], [223576, 223914], [223607, 223945], [223651, 223989], [223653, 223991], [224076, 224414], [224077, 224415], [224088, 224426], [224089, 224427], [224092, 224430], [224094, 224432], [225684, 226022], [225690, 226028], [225691, 226029], [225698, 226036], [225700, 226038], [225701, 226039], [225764, 226102], [226692, 227030], [226727, 227065], [226738, 227076], [226776, 227114], [226881, 227219], [226886, 227224], [226915, 227253], [226936, 227274], [226949, 227287], [226981, 227319], [226991, 227329], [226995, 227333], [226996, 227334], [226997, 227335], [226998, 227336], [226999, 227337], [227000, 227338], [227009, 227347], [227014, 227352], [227016, 227354], [227021, 227359], [227956, 228294], [227968, 228306], [227969, 228307], [227970, 228308], [227971, 228309], [227972, 228310], [227977, 228315], [227981, 228319], [227982, 228320], [227984, 228322], [228006, 228344], [228007, 228345], [229557, 229895], [229567, 229905], [229568, 229906], [229569, 229907], [229647, 229985], [230891, 231229], [230892, 231230], [230893, 231231], [230902, 231240], [230904, 231242], [230905, 231243], [230913, 231251], [230914, 231252], [230916, 231254], [230922, 231260], [233072, 233410], [233075, 233413], [233076, 233414], [233077, 233415], [233307, 233645], [233309, 233647], [233321, 233659], [233325, 233663], [233327, 233665], [233340, 233678], [233390, 233728], [235335, 235673], [235814, 236152], [235818, 236156], [235882, 236220], [236172, 236510], [236173, 236511], [236175, 236513], [237136, 237474], [237714, 238052], [237728, 238066], [237733, 238071], [237747, 238085], [237769, 238107], [240208, 240546], [240209, 240547], [240269, 240607], [240327, 240665], [240348, 240686], [240363, 240701], [240368, 240706], [240373, 240711], [240376, 240714], [240432, 240770], [240543, 240881], [240546, 240884], [240550, 240888], [240552, 240890], [240593, 240931], [240594, 240932], [240597, 240935], [240674, 241012], [240707, 241045], [240752, 241090], [240760, 241098], [240862, 241200], [242174, 242512], [242176, 242514], [242177, 242515], [244052, 244390], [244053, 244391], [244056, 244394], [244057, 244395], [244060, 244398], [244061, 244399], [244231, 244569], [244233, 244571], [244235, 244573], [244236, 244574], [244237, 244575], [244238, 244576], [244239, 244577], [244240, 244578], [244251, 244589], [244262, 244600], [244456, 244794], [244457, 244795], [244460, 244798], [244461, 244799], [244462, 244800]]]\n"
          ]
        }
      ]
    },
    {
      "cell_type": "code",
      "source": [
        "#remove overlapping areas, how to use hash step by step and we have no label.\n"
      ],
      "metadata": {
        "id": "QazKnHnkDqQz"
      },
      "execution_count": null,
      "outputs": []
    },
    {
      "cell_type": "code",
      "source": [],
      "metadata": {
        "id": "OHfUIa4MX9QH"
      },
      "execution_count": null,
      "outputs": []
    }
  ]
}